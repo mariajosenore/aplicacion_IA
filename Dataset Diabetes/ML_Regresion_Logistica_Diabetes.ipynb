{
  "cells": [
    {
      "cell_type": "markdown",
      "metadata": {
        "id": "Yxqh08n4VRwV"
      },
      "source": [
        "# ML: Regresión Logística\n",
        "\n",
        "## Universidad Cooperativa de Colombia - Sede Cali\n",
        "\n",
        "### Predicción de Diabetes con Regresión Logística\n",
        "\n",
        "**Objetivo:** Aprender a implementar un modelo de clasificación de Machine Learning utilizando Regresión Logística para predecir la aparición de diabetes, siguiendo la metodología CRISP-DM."
      ]
    },
    {
      "cell_type": "markdown",
      "metadata": {
        "id": "y5eGEZtOVRwe"
      },
      "source": [
        "## Introducción a la Regresión Logística\n",
        "\n",
        "La **Regresión Logística** es un algoritmo de **aprendizaje supervisado** que se utiliza para problemas de **clasificación**. A pesar de su nombre, no se usa para regresión (predecir valores continuos), sino para predecir una variable categórica (una etiqueta).\n",
        "\n",
        "**¿Cuándo usarlo?**\n",
        "\n",
        "Se utiliza cuando la variable que queremos predecir es binaria, es decir, solo puede tomar dos valores. Por ejemplo:\n",
        "\n",
        "*   Sí/No (ej. ¿El paciente tiene diabetes?)\n",
        "*   Verdadero/Falso\n",
        "*   0/1\n",
        "*   Spam/No Spam\n",
        "\n",
        "El algoritmo funciona calculando la probabilidad de que una observación pertenezca a una de las dos clases. Si la probabilidad supera un umbral (normalmente 0.5), se asigna a la clase 1; de lo contrario, a la clase 0."
      ]
    },
    {
      "cell_type": "markdown",
      "metadata": {
        "id": "W4m6RMA-VRwg"
      },
      "source": [
        "## Metodología CRISP-DM\n",
        "\n",
        "CRISP-DM (Cross-Industry Standard Process for Data Mining) es un modelo de proceso estándar de la industria que describe los enfoques comunes que los expertos en minería de datos utilizan. Seguiremos sus 6 fases:\n",
        "\n",
        "1.  **Comprensión del Negocio (Business Understanding)**\n",
        "2.  **Comprensión de los Datos (Data Understanding)**\n",
        "3.  **Preparación de los Datos (Data Preparation)**\n",
        "4.  **Modelado (Modeling)**\n",
        "5.  **Evaluación (Evaluation)**\n",
        "6.  **Despliegue (Deployment)**"
      ]
    },
    {
      "cell_type": "markdown",
      "metadata": {
        "id": "VdWOytFbVRwh"
      },
      "source": [
        "### Fase 1: Comprensión del Negocio\n",
        "\n",
        "**Objetivo:** Predecir si un paciente tiene diabetes basándose en ciertas mediciones diagnósticas. Esto es importante para la detección temprana y el tratamiento de la enfermedad.\n",
        "\n",
        "**¿Qué es la diabetes?**\n",
        "\n",
        "La diabetes es una enfermedad crónica que ocurre cuando el páncreas no produce suficiente insulina o cuando el cuerpo no puede utilizar eficazmente la insulina que produce. La insulina es una hormona que regula el azúcar en la sangre. El efecto de la diabetes no controlada es la hiperglucemia (aumento del azúcar en la sangre), que con el tiempo daña gravemente muchos órganos y sistemas del cuerpo, especialmente los nervios y los vasos sanguíneos.\n",
        "\n",
        "**¿Cómo se mide?**\n",
        "\n",
        "La diabetes se diagnostica comúnmente a través de pruebas de glucosa en sangre. Los niveles de glucosa en ayunas, la prueba de tolerancia a la glucosa oral (OGTT) y la hemoglobina A1c (HbA1c) son algunas de las pruebas más comunes. Nuestro dataset incluirá algunas de estas mediciones, así como otros factores de riesgo conocidos."
      ]
    },
    {
      "cell_type": "markdown",
      "metadata": {
        "id": "6ihheoNjVRwi"
      },
      "source": [
        "### Fase 2: Comprensión de los Datos\n",
        "\n",
        "En esta fase, cargaremos el dataset y realizaremos un análisis exploratorio inicial para entender su estructura, contenido y calidad."
      ]
    },
    {
      "cell_type": "markdown",
      "metadata": {
        "id": "VAFwsXG9VRwi"
      },
      "source": [
        "#### Carga del Dataset\n",
        "\n",
        "**¿Qué hace este código?**\n",
        "\n",
        "Este bloque de código importa las librerías necesarias (pandas para manipulación de datos y numpy para operaciones numéricas) y carga el archivo CSV que contiene los datos de diabetes. En Google Colab, primero debes subir el archivo `diabetes_dataset.csv` a tu entorno.\n",
        "\n",
        "**Resultado esperado:** Un DataFrame de pandas con los datos de diabetes cargados en memoria."
      ]
    },
    {
      "cell_type": "code",
      "execution_count": null,
      "metadata": {
        "colab": {
          "base_uri": "https://localhost:8080/",
          "height": 125
        },
        "id": "kjN6Dn_mVRwj",
        "outputId": "7d2134b6-f65c-4392-f5fd-f7e91ee380bf"
      },
      "outputs": [
        {
          "data": {
            "text/html": [
              "\n",
              "     <input type=\"file\" id=\"files-40a212d8-c4d6-42f8-a016-aef966aed429\" name=\"files[]\" multiple disabled\n",
              "        style=\"border:none\" />\n",
              "     <output id=\"result-40a212d8-c4d6-42f8-a016-aef966aed429\">\n",
              "      Upload widget is only available when the cell has been executed in the\n",
              "      current browser session. Please rerun this cell to enable.\n",
              "      </output>\n",
              "      <script>// Copyright 2017 Google LLC\n",
              "//\n",
              "// Licensed under the Apache License, Version 2.0 (the \"License\");\n",
              "// you may not use this file except in compliance with the License.\n",
              "// You may obtain a copy of the License at\n",
              "//\n",
              "//      http://www.apache.org/licenses/LICENSE-2.0\n",
              "//\n",
              "// Unless required by applicable law or agreed to in writing, software\n",
              "// distributed under the License is distributed on an \"AS IS\" BASIS,\n",
              "// WITHOUT WARRANTIES OR CONDITIONS OF ANY KIND, either express or implied.\n",
              "// See the License for the specific language governing permissions and\n",
              "// limitations under the License.\n",
              "\n",
              "/**\n",
              " * @fileoverview Helpers for google.colab Python module.\n",
              " */\n",
              "(function(scope) {\n",
              "function span(text, styleAttributes = {}) {\n",
              "  const element = document.createElement('span');\n",
              "  element.textContent = text;\n",
              "  for (const key of Object.keys(styleAttributes)) {\n",
              "    element.style[key] = styleAttributes[key];\n",
              "  }\n",
              "  return element;\n",
              "}\n",
              "\n",
              "// Max number of bytes which will be uploaded at a time.\n",
              "const MAX_PAYLOAD_SIZE = 100 * 1024;\n",
              "\n",
              "function _uploadFiles(inputId, outputId) {\n",
              "  const steps = uploadFilesStep(inputId, outputId);\n",
              "  const outputElement = document.getElementById(outputId);\n",
              "  // Cache steps on the outputElement to make it available for the next call\n",
              "  // to uploadFilesContinue from Python.\n",
              "  outputElement.steps = steps;\n",
              "\n",
              "  return _uploadFilesContinue(outputId);\n",
              "}\n",
              "\n",
              "// This is roughly an async generator (not supported in the browser yet),\n",
              "// where there are multiple asynchronous steps and the Python side is going\n",
              "// to poll for completion of each step.\n",
              "// This uses a Promise to block the python side on completion of each step,\n",
              "// then passes the result of the previous step as the input to the next step.\n",
              "function _uploadFilesContinue(outputId) {\n",
              "  const outputElement = document.getElementById(outputId);\n",
              "  const steps = outputElement.steps;\n",
              "\n",
              "  const next = steps.next(outputElement.lastPromiseValue);\n",
              "  return Promise.resolve(next.value.promise).then((value) => {\n",
              "    // Cache the last promise value to make it available to the next\n",
              "    // step of the generator.\n",
              "    outputElement.lastPromiseValue = value;\n",
              "    return next.value.response;\n",
              "  });\n",
              "}\n",
              "\n",
              "/**\n",
              " * Generator function which is called between each async step of the upload\n",
              " * process.\n",
              " * @param {string} inputId Element ID of the input file picker element.\n",
              " * @param {string} outputId Element ID of the output display.\n",
              " * @return {!Iterable<!Object>} Iterable of next steps.\n",
              " */\n",
              "function* uploadFilesStep(inputId, outputId) {\n",
              "  const inputElement = document.getElementById(inputId);\n",
              "  inputElement.disabled = false;\n",
              "\n",
              "  const outputElement = document.getElementById(outputId);\n",
              "  outputElement.innerHTML = '';\n",
              "\n",
              "  const pickedPromise = new Promise((resolve) => {\n",
              "    inputElement.addEventListener('change', (e) => {\n",
              "      resolve(e.target.files);\n",
              "    });\n",
              "  });\n",
              "\n",
              "  const cancel = document.createElement('button');\n",
              "  inputElement.parentElement.appendChild(cancel);\n",
              "  cancel.textContent = 'Cancel upload';\n",
              "  const cancelPromise = new Promise((resolve) => {\n",
              "    cancel.onclick = () => {\n",
              "      resolve(null);\n",
              "    };\n",
              "  });\n",
              "\n",
              "  // Wait for the user to pick the files.\n",
              "  const files = yield {\n",
              "    promise: Promise.race([pickedPromise, cancelPromise]),\n",
              "    response: {\n",
              "      action: 'starting',\n",
              "    }\n",
              "  };\n",
              "\n",
              "  cancel.remove();\n",
              "\n",
              "  // Disable the input element since further picks are not allowed.\n",
              "  inputElement.disabled = true;\n",
              "\n",
              "  if (!files) {\n",
              "    return {\n",
              "      response: {\n",
              "        action: 'complete',\n",
              "      }\n",
              "    };\n",
              "  }\n",
              "\n",
              "  for (const file of files) {\n",
              "    const li = document.createElement('li');\n",
              "    li.append(span(file.name, {fontWeight: 'bold'}));\n",
              "    li.append(span(\n",
              "        `(${file.type || 'n/a'}) - ${file.size} bytes, ` +\n",
              "        `last modified: ${\n",
              "            file.lastModifiedDate ? file.lastModifiedDate.toLocaleDateString() :\n",
              "                                    'n/a'} - `));\n",
              "    const percent = span('0% done');\n",
              "    li.appendChild(percent);\n",
              "\n",
              "    outputElement.appendChild(li);\n",
              "\n",
              "    const fileDataPromise = new Promise((resolve) => {\n",
              "      const reader = new FileReader();\n",
              "      reader.onload = (e) => {\n",
              "        resolve(e.target.result);\n",
              "      };\n",
              "      reader.readAsArrayBuffer(file);\n",
              "    });\n",
              "    // Wait for the data to be ready.\n",
              "    let fileData = yield {\n",
              "      promise: fileDataPromise,\n",
              "      response: {\n",
              "        action: 'continue',\n",
              "      }\n",
              "    };\n",
              "\n",
              "    // Use a chunked sending to avoid message size limits. See b/62115660.\n",
              "    let position = 0;\n",
              "    do {\n",
              "      const length = Math.min(fileData.byteLength - position, MAX_PAYLOAD_SIZE);\n",
              "      const chunk = new Uint8Array(fileData, position, length);\n",
              "      position += length;\n",
              "\n",
              "      const base64 = btoa(String.fromCharCode.apply(null, chunk));\n",
              "      yield {\n",
              "        response: {\n",
              "          action: 'append',\n",
              "          file: file.name,\n",
              "          data: base64,\n",
              "        },\n",
              "      };\n",
              "\n",
              "      let percentDone = fileData.byteLength === 0 ?\n",
              "          100 :\n",
              "          Math.round((position / fileData.byteLength) * 100);\n",
              "      percent.textContent = `${percentDone}% done`;\n",
              "\n",
              "    } while (position < fileData.byteLength);\n",
              "  }\n",
              "\n",
              "  // All done.\n",
              "  yield {\n",
              "    response: {\n",
              "      action: 'complete',\n",
              "    }\n",
              "  };\n",
              "}\n",
              "\n",
              "scope.google = scope.google || {};\n",
              "scope.google.colab = scope.google.colab || {};\n",
              "scope.google.colab._files = {\n",
              "  _uploadFiles,\n",
              "  _uploadFilesContinue,\n",
              "};\n",
              "})(self);\n",
              "</script> "
            ],
            "text/plain": [
              "<IPython.core.display.HTML object>"
            ]
          },
          "metadata": {},
          "output_type": "display_data"
        },
        {
          "name": "stdout",
          "output_type": "stream",
          "text": [
            "Saving diabetes_dataset.csv to diabetes_dataset.csv\n",
            "User uploaded file \"diabetes_dataset.csv\" with length 4723 bytes\n",
            "Dataset cargado exitosamente. Forma del dataset: (152, 9)\n",
            "Número de filas: 152, Número de columnas: 9\n"
          ]
        }
      ],
      "source": [
        "import pandas as pd\n",
        "import numpy as np\n",
        "from google.colab import files\n",
        "\n",
        "# Para cargar el archivo en Google Colab, primero súbelo usando el panel de archivos\n",
        "# o ejecuta el siguiente código para subir archivos:\n",
        "uploaded = files.upload()\n",
        "\n",
        "# Cargar el dataset desde el archivo CSV\n",
        "# Assuming the uploaded file is named 'diabetes_dataset.csv'\n",
        "for fn in uploaded.keys():\n",
        "  print('User uploaded file \"{name}\" with length {length} bytes'.format(\n",
        "      name=fn, length=len(uploaded[fn])))\n",
        "  df = pd.read_csv(fn)\n",
        "\n",
        "\n",
        "print(f\"Dataset cargado exitosamente. Forma del dataset: {df.shape}\")\n",
        "print(f\"Número de filas: {df.shape[0]}, Número de columnas: {df.shape[1]}\")"
      ]
    },
    {
      "cell_type": "code",
      "execution_count": null,
      "metadata": {
        "id": "o7mGHkeo4P4R"
      },
      "outputs": [],
      "source": []
    },
    {
      "cell_type": "markdown",
      "metadata": {
        "id": "cNkHJDEuVRwm"
      },
      "source": [
        "#### Diccionario de Datos\n",
        "\n",
        "Es fundamental entender qué representa cada variable en nuestro dataset:\n",
        "\n",
        "| Característica           | Descripción                                                                 | Tipo de Dato |\n",
        "| :----------------------- | :-------------------------------------------------------------------------- | :----------- |\n",
        "| `Pregnancies`            | Número de veces que ha estado embarazada.                                   | Numérico     |\n",
        "| `Glucose`                | Concentración de glucosa en plasma a las 2 horas en una prueba de tolerancia oral a la glucosa. | Numérico     |\n",
        "| `BloodPressure`          | Presión arterial diastólica (mm Hg).                                        | Numérico     |\n",
        "| `SkinThickness`          | Grosor del pliegue cutáneo del tríceps (mm).                                | Numérico     |\n",
        "| `Insulin`                | Insulina sérica de 2 horas (mu U/ml).                                       | Numérico     |\n",
        "| `BMI`                    | Índice de Masa Corporal (peso en kg / (altura en m)^2).                     | Numérico     |\n",
        "| `DiabetesPedigreeFunction` | Función de pedigrí de diabetes (una medida de la predisposición genética).  | Numérico     |\n",
        "| `Age`                    | Edad (años).                                                                | Numérico     |\n",
        "| `Outcome`                | Variable de clase (0 = No diabético, 1 = Diabético).                        | Categórico   |"
      ]
    },
    {
      "cell_type": "markdown",
      "metadata": {
        "id": "b-Q_t-yXVRwn"
      },
      "source": [
        "#### Exploración Inicial de los Datos\n",
        "\n",
        "**¿Qué hace este código?**\n",
        "\n",
        "Visualiza las primeras 5 filas del dataset para tener una idea inicial de cómo se ven los datos.\n",
        "\n",
        "**Resultado esperado:** Una tabla con las primeras 5 filas del dataset, mostrando todas las columnas y sus valores."
      ]
    },
    {
      "cell_type": "code",
      "execution_count": null,
      "metadata": {
        "colab": {
          "base_uri": "https://localhost:8080/",
          "height": 206
        },
        "id": "6bdvWmi-VRwo",
        "outputId": "f6b3624e-f461-493c-ff53-b2d87b094829"
      },
      "outputs": [
        {
          "data": {
            "application/vnd.google.colaboratory.intrinsic+json": {
              "summary": "{\n  \"name\": \"df\",\n  \"rows\": 152,\n  \"fields\": [\n    {\n      \"column\": \"Pregnancies\",\n      \"properties\": {\n        \"dtype\": \"number\",\n        \"std\": 3,\n        \"min\": 0,\n        \"max\": 13,\n        \"num_unique_values\": 14,\n        \"samples\": [\n          7,\n          11,\n          6\n        ],\n        \"semantic_type\": \"\",\n        \"description\": \"\"\n      }\n    },\n    {\n      \"column\": \"Glucose\",\n      \"properties\": {\n        \"dtype\": \"number\",\n        \"std\": 27,\n        \"min\": 73,\n        \"max\": 197,\n        \"num_unique_values\": 59,\n        \"samples\": [\n          148,\n          116,\n          102\n        ],\n        \"semantic_type\": \"\",\n        \"description\": \"\"\n      }\n    },\n    {\n      \"column\": \"BloodPressure\",\n      \"properties\": {\n        \"dtype\": \"number\",\n        \"std\": 17,\n        \"min\": 0,\n        \"max\": 96,\n        \"num_unique_values\": 26,\n        \"samples\": [\n          96,\n          94,\n          72\n        ],\n        \"semantic_type\": \"\",\n        \"description\": \"\"\n      }\n    },\n    {\n      \"column\": \"SkinThickness\",\n      \"properties\": {\n        \"dtype\": \"number\",\n        \"std\": 15,\n        \"min\": 0,\n        \"max\": 48,\n        \"num_unique_values\": 31,\n        \"samples\": [\n          21,\n          11,\n          27\n        ],\n        \"semantic_type\": \"\",\n        \"description\": \"\"\n      }\n    },\n    {\n      \"column\": \"Insulin\",\n      \"properties\": {\n        \"dtype\": \"number\",\n        \"std\": 107,\n        \"min\": 0,\n        \"max\": 846,\n        \"num_unique_values\": 36,\n        \"samples\": [\n          76,\n          140,\n          194\n        ],\n        \"semantic_type\": \"\",\n        \"description\": \"\"\n      }\n    },\n    {\n      \"column\": \"BMI\",\n      \"properties\": {\n        \"dtype\": \"number\",\n        \"std\": 6.653236730545546,\n        \"min\": 0.0,\n        \"max\": 45.8,\n        \"num_unique_values\": 76,\n        \"samples\": [\n          43.1,\n          24.0,\n          37.6\n        ],\n        \"semantic_type\": \"\",\n        \"description\": \"\"\n      }\n    },\n    {\n      \"column\": \"DiabetesPedigreeFunction\",\n      \"properties\": {\n        \"dtype\": \"number\",\n        \"std\": 0.30480740673769885,\n        \"min\": 0.1,\n        \"max\": 2.288,\n        \"num_unique_values\": 82,\n        \"samples\": [\n          0.851,\n          0.627,\n          0.451\n        ],\n        \"semantic_type\": \"\",\n        \"description\": \"\"\n      }\n    },\n    {\n      \"column\": \"Age\",\n      \"properties\": {\n        \"dtype\": \"number\",\n        \"std\": 11,\n        \"min\": 21,\n        \"max\": 66,\n        \"num_unique_values\": 36,\n        \"samples\": [\n          25,\n          51,\n          48\n        ],\n        \"semantic_type\": \"\",\n        \"description\": \"\"\n      }\n    },\n    {\n      \"column\": \"Outcome\",\n      \"properties\": {\n        \"dtype\": \"number\",\n        \"std\": 0,\n        \"min\": 0,\n        \"max\": 1,\n        \"num_unique_values\": 2,\n        \"samples\": [\n          0,\n          1\n        ],\n        \"semantic_type\": \"\",\n        \"description\": \"\"\n      }\n    }\n  ]\n}",
              "type": "dataframe",
              "variable_name": "df"
            },
            "text/html": [
              "\n",
              "  <div id=\"df-ff390d2f-be51-4044-a6a1-90255664c568\" class=\"colab-df-container\">\n",
              "    <div>\n",
              "<style scoped>\n",
              "    .dataframe tbody tr th:only-of-type {\n",
              "        vertical-align: middle;\n",
              "    }\n",
              "\n",
              "    .dataframe tbody tr th {\n",
              "        vertical-align: top;\n",
              "    }\n",
              "\n",
              "    .dataframe thead th {\n",
              "        text-align: right;\n",
              "    }\n",
              "</style>\n",
              "<table border=\"1\" class=\"dataframe\">\n",
              "  <thead>\n",
              "    <tr style=\"text-align: right;\">\n",
              "      <th></th>\n",
              "      <th>Pregnancies</th>\n",
              "      <th>Glucose</th>\n",
              "      <th>BloodPressure</th>\n",
              "      <th>SkinThickness</th>\n",
              "      <th>Insulin</th>\n",
              "      <th>BMI</th>\n",
              "      <th>DiabetesPedigreeFunction</th>\n",
              "      <th>Age</th>\n",
              "      <th>Outcome</th>\n",
              "    </tr>\n",
              "  </thead>\n",
              "  <tbody>\n",
              "    <tr>\n",
              "      <th>0</th>\n",
              "      <td>6</td>\n",
              "      <td>148</td>\n",
              "      <td>72</td>\n",
              "      <td>35</td>\n",
              "      <td>0</td>\n",
              "      <td>33.6</td>\n",
              "      <td>0.627</td>\n",
              "      <td>50</td>\n",
              "      <td>1</td>\n",
              "    </tr>\n",
              "    <tr>\n",
              "      <th>1</th>\n",
              "      <td>1</td>\n",
              "      <td>85</td>\n",
              "      <td>66</td>\n",
              "      <td>29</td>\n",
              "      <td>0</td>\n",
              "      <td>26.6</td>\n",
              "      <td>0.351</td>\n",
              "      <td>31</td>\n",
              "      <td>0</td>\n",
              "    </tr>\n",
              "    <tr>\n",
              "      <th>2</th>\n",
              "      <td>8</td>\n",
              "      <td>183</td>\n",
              "      <td>64</td>\n",
              "      <td>0</td>\n",
              "      <td>0</td>\n",
              "      <td>23.3</td>\n",
              "      <td>0.672</td>\n",
              "      <td>32</td>\n",
              "      <td>1</td>\n",
              "    </tr>\n",
              "    <tr>\n",
              "      <th>3</th>\n",
              "      <td>1</td>\n",
              "      <td>89</td>\n",
              "      <td>66</td>\n",
              "      <td>23</td>\n",
              "      <td>94</td>\n",
              "      <td>28.1</td>\n",
              "      <td>0.167</td>\n",
              "      <td>21</td>\n",
              "      <td>0</td>\n",
              "    </tr>\n",
              "    <tr>\n",
              "      <th>4</th>\n",
              "      <td>0</td>\n",
              "      <td>137</td>\n",
              "      <td>40</td>\n",
              "      <td>35</td>\n",
              "      <td>168</td>\n",
              "      <td>43.1</td>\n",
              "      <td>2.288</td>\n",
              "      <td>33</td>\n",
              "      <td>1</td>\n",
              "    </tr>\n",
              "  </tbody>\n",
              "</table>\n",
              "</div>\n",
              "    <div class=\"colab-df-buttons\">\n",
              "\n",
              "  <div class=\"colab-df-container\">\n",
              "    <button class=\"colab-df-convert\" onclick=\"convertToInteractive('df-ff390d2f-be51-4044-a6a1-90255664c568')\"\n",
              "            title=\"Convert this dataframe to an interactive table.\"\n",
              "            style=\"display:none;\">\n",
              "\n",
              "  <svg xmlns=\"http://www.w3.org/2000/svg\" height=\"24px\" viewBox=\"0 -960 960 960\">\n",
              "    <path d=\"M120-120v-720h720v720H120Zm60-500h600v-160H180v160Zm220 220h160v-160H400v160Zm0 220h160v-160H400v160ZM180-400h160v-160H180v160Zm440 0h160v-160H620v160ZM180-180h160v-160H180v160Zm440 0h160v-160H620v160Z\"/>\n",
              "  </svg>\n",
              "    </button>\n",
              "\n",
              "  <style>\n",
              "    .colab-df-container {\n",
              "      display:flex;\n",
              "      gap: 12px;\n",
              "    }\n",
              "\n",
              "    .colab-df-convert {\n",
              "      background-color: #E8F0FE;\n",
              "      border: none;\n",
              "      border-radius: 50%;\n",
              "      cursor: pointer;\n",
              "      display: none;\n",
              "      fill: #1967D2;\n",
              "      height: 32px;\n",
              "      padding: 0 0 0 0;\n",
              "      width: 32px;\n",
              "    }\n",
              "\n",
              "    .colab-df-convert:hover {\n",
              "      background-color: #E2EBFA;\n",
              "      box-shadow: 0px 1px 2px rgba(60, 64, 67, 0.3), 0px 1px 3px 1px rgba(60, 64, 67, 0.15);\n",
              "      fill: #174EA6;\n",
              "    }\n",
              "\n",
              "    .colab-df-buttons div {\n",
              "      margin-bottom: 4px;\n",
              "    }\n",
              "\n",
              "    [theme=dark] .colab-df-convert {\n",
              "      background-color: #3B4455;\n",
              "      fill: #D2E3FC;\n",
              "    }\n",
              "\n",
              "    [theme=dark] .colab-df-convert:hover {\n",
              "      background-color: #434B5C;\n",
              "      box-shadow: 0px 1px 3px 1px rgba(0, 0, 0, 0.15);\n",
              "      filter: drop-shadow(0px 1px 2px rgba(0, 0, 0, 0.3));\n",
              "      fill: #FFFFFF;\n",
              "    }\n",
              "  </style>\n",
              "\n",
              "    <script>\n",
              "      const buttonEl =\n",
              "        document.querySelector('#df-ff390d2f-be51-4044-a6a1-90255664c568 button.colab-df-convert');\n",
              "      buttonEl.style.display =\n",
              "        google.colab.kernel.accessAllowed ? 'block' : 'none';\n",
              "\n",
              "      async function convertToInteractive(key) {\n",
              "        const element = document.querySelector('#df-ff390d2f-be51-4044-a6a1-90255664c568');\n",
              "        const dataTable =\n",
              "          await google.colab.kernel.invokeFunction('convertToInteractive',\n",
              "                                                    [key], {});\n",
              "        if (!dataTable) return;\n",
              "\n",
              "        const docLinkHtml = 'Like what you see? Visit the ' +\n",
              "          '<a target=\"_blank\" href=https://colab.research.google.com/notebooks/data_table.ipynb>data table notebook</a>'\n",
              "          + ' to learn more about interactive tables.';\n",
              "        element.innerHTML = '';\n",
              "        dataTable['output_type'] = 'display_data';\n",
              "        await google.colab.output.renderOutput(dataTable, element);\n",
              "        const docLink = document.createElement('div');\n",
              "        docLink.innerHTML = docLinkHtml;\n",
              "        element.appendChild(docLink);\n",
              "      }\n",
              "    </script>\n",
              "  </div>\n",
              "\n",
              "\n",
              "    <div id=\"df-b9cb176d-59c3-4299-8f26-5d9650d6a958\">\n",
              "      <button class=\"colab-df-quickchart\" onclick=\"quickchart('df-b9cb176d-59c3-4299-8f26-5d9650d6a958')\"\n",
              "                title=\"Suggest charts\"\n",
              "                style=\"display:none;\">\n",
              "\n",
              "<svg xmlns=\"http://www.w3.org/2000/svg\" height=\"24px\"viewBox=\"0 0 24 24\"\n",
              "     width=\"24px\">\n",
              "    <g>\n",
              "        <path d=\"M19 3H5c-1.1 0-2 .9-2 2v14c0 1.1.9 2 2 2h14c1.1 0 2-.9 2-2V5c0-1.1-.9-2-2-2zM9 17H7v-7h2v7zm4 0h-2V7h2v10zm4 0h-2v-4h2v4z\"/>\n",
              "    </g>\n",
              "</svg>\n",
              "      </button>\n",
              "\n",
              "<style>\n",
              "  .colab-df-quickchart {\n",
              "      --bg-color: #E8F0FE;\n",
              "      --fill-color: #1967D2;\n",
              "      --hover-bg-color: #E2EBFA;\n",
              "      --hover-fill-color: #174EA6;\n",
              "      --disabled-fill-color: #AAA;\n",
              "      --disabled-bg-color: #DDD;\n",
              "  }\n",
              "\n",
              "  [theme=dark] .colab-df-quickchart {\n",
              "      --bg-color: #3B4455;\n",
              "      --fill-color: #D2E3FC;\n",
              "      --hover-bg-color: #434B5C;\n",
              "      --hover-fill-color: #FFFFFF;\n",
              "      --disabled-bg-color: #3B4455;\n",
              "      --disabled-fill-color: #666;\n",
              "  }\n",
              "\n",
              "  .colab-df-quickchart {\n",
              "    background-color: var(--bg-color);\n",
              "    border: none;\n",
              "    border-radius: 50%;\n",
              "    cursor: pointer;\n",
              "    display: none;\n",
              "    fill: var(--fill-color);\n",
              "    height: 32px;\n",
              "    padding: 0;\n",
              "    width: 32px;\n",
              "  }\n",
              "\n",
              "  .colab-df-quickchart:hover {\n",
              "    background-color: var(--hover-bg-color);\n",
              "    box-shadow: 0 1px 2px rgba(60, 64, 67, 0.3), 0 1px 3px 1px rgba(60, 64, 67, 0.15);\n",
              "    fill: var(--button-hover-fill-color);\n",
              "  }\n",
              "\n",
              "  .colab-df-quickchart-complete:disabled,\n",
              "  .colab-df-quickchart-complete:disabled:hover {\n",
              "    background-color: var(--disabled-bg-color);\n",
              "    fill: var(--disabled-fill-color);\n",
              "    box-shadow: none;\n",
              "  }\n",
              "\n",
              "  .colab-df-spinner {\n",
              "    border: 2px solid var(--fill-color);\n",
              "    border-color: transparent;\n",
              "    border-bottom-color: var(--fill-color);\n",
              "    animation:\n",
              "      spin 1s steps(1) infinite;\n",
              "  }\n",
              "\n",
              "  @keyframes spin {\n",
              "    0% {\n",
              "      border-color: transparent;\n",
              "      border-bottom-color: var(--fill-color);\n",
              "      border-left-color: var(--fill-color);\n",
              "    }\n",
              "    20% {\n",
              "      border-color: transparent;\n",
              "      border-left-color: var(--fill-color);\n",
              "      border-top-color: var(--fill-color);\n",
              "    }\n",
              "    30% {\n",
              "      border-color: transparent;\n",
              "      border-left-color: var(--fill-color);\n",
              "      border-top-color: var(--fill-color);\n",
              "      border-right-color: var(--fill-color);\n",
              "    }\n",
              "    40% {\n",
              "      border-color: transparent;\n",
              "      border-right-color: var(--fill-color);\n",
              "      border-top-color: var(--fill-color);\n",
              "    }\n",
              "    60% {\n",
              "      border-color: transparent;\n",
              "      border-right-color: var(--fill-color);\n",
              "    }\n",
              "    80% {\n",
              "      border-color: transparent;\n",
              "      border-right-color: var(--fill-color);\n",
              "      border-bottom-color: var(--fill-color);\n",
              "    }\n",
              "    90% {\n",
              "      border-color: transparent;\n",
              "      border-bottom-color: var(--fill-color);\n",
              "    }\n",
              "  }\n",
              "</style>\n",
              "\n",
              "      <script>\n",
              "        async function quickchart(key) {\n",
              "          const quickchartButtonEl =\n",
              "            document.querySelector('#' + key + ' button');\n",
              "          quickchartButtonEl.disabled = true;  // To prevent multiple clicks.\n",
              "          quickchartButtonEl.classList.add('colab-df-spinner');\n",
              "          try {\n",
              "            const charts = await google.colab.kernel.invokeFunction(\n",
              "                'suggestCharts', [key], {});\n",
              "          } catch (error) {\n",
              "            console.error('Error during call to suggestCharts:', error);\n",
              "          }\n",
              "          quickchartButtonEl.classList.remove('colab-df-spinner');\n",
              "          quickchartButtonEl.classList.add('colab-df-quickchart-complete');\n",
              "        }\n",
              "        (() => {\n",
              "          let quickchartButtonEl =\n",
              "            document.querySelector('#df-b9cb176d-59c3-4299-8f26-5d9650d6a958 button');\n",
              "          quickchartButtonEl.style.display =\n",
              "            google.colab.kernel.accessAllowed ? 'block' : 'none';\n",
              "        })();\n",
              "      </script>\n",
              "    </div>\n",
              "\n",
              "    </div>\n",
              "  </div>\n"
            ],
            "text/plain": [
              "   Pregnancies  Glucose  BloodPressure  SkinThickness  Insulin   BMI  \\\n",
              "0            6      148             72             35        0  33.6   \n",
              "1            1       85             66             29        0  26.6   \n",
              "2            8      183             64              0        0  23.3   \n",
              "3            1       89             66             23       94  28.1   \n",
              "4            0      137             40             35      168  43.1   \n",
              "\n",
              "   DiabetesPedigreeFunction  Age  Outcome  \n",
              "0                     0.627   50        1  \n",
              "1                     0.351   31        0  \n",
              "2                     0.672   32        1  \n",
              "3                     0.167   21        0  \n",
              "4                     2.288   33        1  "
            ]
          },
          "execution_count": 3,
          "metadata": {},
          "output_type": "execute_result"
        }
      ],
      "source": [
        "# Visualizar las primeras 5 filas del DataFrame\n",
        "df.head()"
      ]
    },
    {
      "cell_type": "markdown",
      "metadata": {
        "id": "TBKOg6wJVRwq"
      },
      "source": [
        "**¿Qué hace este código?**\n",
        "\n",
        "Proporciona información general sobre el dataset: tipos de datos, número de valores no nulos, y uso de memoria.\n",
        "\n",
        "**Resultado esperado:** Un resumen que muestra el tipo de dato de cada columna y si hay valores nulos."
      ]
    },
    {
      "cell_type": "code",
      "execution_count": null,
      "metadata": {
        "colab": {
          "base_uri": "https://localhost:8080/"
        },
        "id": "c2qXlm93VRws",
        "outputId": "2ce6a1a6-c55e-4e97-ed69-939fd96cca47"
      },
      "outputs": [
        {
          "name": "stdout",
          "output_type": "stream",
          "text": [
            "<class 'pandas.core.frame.DataFrame'>\n",
            "RangeIndex: 152 entries, 0 to 151\n",
            "Data columns (total 9 columns):\n",
            " #   Column                    Non-Null Count  Dtype  \n",
            "---  ------                    --------------  -----  \n",
            " 0   Pregnancies               152 non-null    int64  \n",
            " 1   Glucose                   152 non-null    int64  \n",
            " 2   BloodPressure             152 non-null    int64  \n",
            " 3   SkinThickness             152 non-null    int64  \n",
            " 4   Insulin                   152 non-null    int64  \n",
            " 5   BMI                       152 non-null    float64\n",
            " 6   DiabetesPedigreeFunction  152 non-null    float64\n",
            " 7   Age                       152 non-null    int64  \n",
            " 8   Outcome                   152 non-null    int64  \n",
            "dtypes: float64(2), int64(7)\n",
            "memory usage: 10.8 KB\n"
          ]
        }
      ],
      "source": [
        "# Obtener información general del DataFrame\n",
        "df.info()"
      ]
    },
    {
      "cell_type": "markdown",
      "metadata": {
        "id": "JKS9r0zWVRwt"
      },
      "source": [
        "**Observaciones iniciales:**\n",
        "\n",
        "*   El dataset tiene 152 filas y 9 columnas.\n",
        "*   Todas las columnas son numéricas, lo cual es bueno para el modelado. Sin embargo, `Outcome` es en realidad una variable categórica.\n",
        "*   No parece haber valores nulos a primera vista (según `df.info()`), pero esto puede ser engañoso. A veces, los valores faltantes se representan con `0`, lo cual no tiene sentido para algunas variables como `Glucose` o `BloodPressure`."
      ]
    },
    {
      "cell_type": "markdown",
      "metadata": {
        "id": "sLr7QEB0VRwu"
      },
      "source": [
        "**¿Qué hace este código?**\n",
        "\n",
        "Calcula estadísticas descriptivas (media, desviación estándar, mínimo, máximo, cuartiles) para todas las variables numéricas.\n",
        "\n",
        "**Resultado esperado:** Una tabla con estadísticas descriptivas que nos ayudará a identificar posibles problemas en los datos."
      ]
    },
    {
      "cell_type": "code",
      "execution_count": null,
      "metadata": {
        "colab": {
          "base_uri": "https://localhost:8080/",
          "height": 300
        },
        "id": "OfpAjHC6VRwu",
        "outputId": "4500d51d-59a4-4b80-8b9d-8b921b381fc8"
      },
      "outputs": [
        {
          "data": {
            "application/vnd.google.colaboratory.intrinsic+json": {
              "summary": "{\n  \"name\": \"df\",\n  \"rows\": 8,\n  \"fields\": [\n    {\n      \"column\": \"Pregnancies\",\n      \"properties\": {\n        \"dtype\": \"number\",\n        \"std\": 52.27845861197666,\n        \"min\": 0.0,\n        \"max\": 152.0,\n        \"num_unique_values\": 8,\n        \"samples\": [\n          4.394736842105263,\n          3.0,\n          152.0\n        ],\n        \"semantic_type\": \"\",\n        \"description\": \"\"\n      }\n    },\n    {\n      \"column\": \"Glucose\",\n      \"properties\": {\n        \"dtype\": \"number\",\n        \"std\": 50.61337197954866,\n        \"min\": 27.684109140795627,\n        \"max\": 197.0,\n        \"num_unique_values\": 8,\n        \"samples\": [\n          120.02631578947368,\n          111.5,\n          152.0\n        ],\n        \"semantic_type\": \"\",\n        \"description\": \"\"\n      }\n    },\n    {\n      \"column\": \"BloodPressure\",\n      \"properties\": {\n        \"dtype\": \"number\",\n        \"std\": 46.7553354547924,\n        \"min\": 0.0,\n        \"max\": 152.0,\n        \"num_unique_values\": 8,\n        \"samples\": [\n          72.34210526315789,\n          74.5,\n          152.0\n        ],\n        \"semantic_type\": \"\",\n        \"description\": \"\"\n      }\n    },\n    {\n      \"column\": \"SkinThickness\",\n      \"properties\": {\n        \"dtype\": \"number\",\n        \"std\": 49.386647981829555,\n        \"min\": 0.0,\n        \"max\": 152.0,\n        \"num_unique_values\": 7,\n        \"samples\": [\n          152.0,\n          20.36842105263158,\n          33.0\n        ],\n        \"semantic_type\": \"\",\n        \"description\": \"\"\n      }\n    },\n    {\n      \"column\": \"Insulin\",\n      \"properties\": {\n        \"dtype\": \"number\",\n        \"std\": 282.70501832735624,\n        \"min\": 0.0,\n        \"max\": 846.0,\n        \"num_unique_values\": 6,\n        \"samples\": [\n          152.0,\n          72.61842105263158,\n          846.0\n        ],\n        \"semantic_type\": \"\",\n        \"description\": \"\"\n      }\n    },\n    {\n      \"column\": \"BMI\",\n      \"properties\": {\n        \"dtype\": \"number\",\n        \"std\": 47.221240657050984,\n        \"min\": 0.0,\n        \"max\": 152.0,\n        \"num_unique_values\": 8,\n        \"samples\": [\n          31.426973684210523,\n          32.0,\n          152.0\n        ],\n        \"semantic_type\": \"\",\n        \"description\": \"\"\n      }\n    },\n    {\n      \"column\": \"DiabetesPedigreeFunction\",\n      \"properties\": {\n        \"dtype\": \"number\",\n        \"std\": 53.5317142421622,\n        \"min\": 0.1,\n        \"max\": 152.0,\n        \"num_unique_values\": 8,\n        \"samples\": [\n          0.4292828947368421,\n          0.326,\n          152.0\n        ],\n        \"semantic_type\": \"\",\n        \"description\": \"\"\n      }\n    },\n    {\n      \"column\": \"Age\",\n      \"properties\": {\n        \"dtype\": \"number\",\n        \"std\": 44.955381341507696,\n        \"min\": 11.350403017429338,\n        \"max\": 152.0,\n        \"num_unique_values\": 8,\n        \"samples\": [\n          34.94736842105263,\n          32.0,\n          152.0\n        ],\n        \"semantic_type\": \"\",\n        \"description\": \"\"\n      }\n    },\n    {\n      \"column\": \"Outcome\",\n      \"properties\": {\n        \"dtype\": \"number\",\n        \"std\": 53.59765725885973,\n        \"min\": 0.0,\n        \"max\": 152.0,\n        \"num_unique_values\": 5,\n        \"samples\": [\n          0.3684210526315789,\n          1.0,\n          0.4839710259828962\n        ],\n        \"semantic_type\": \"\",\n        \"description\": \"\"\n      }\n    }\n  ]\n}",
              "type": "dataframe"
            },
            "text/html": [
              "\n",
              "  <div id=\"df-ba481592-f866-4e8f-9a0e-b855b6d00b53\" class=\"colab-df-container\">\n",
              "    <div>\n",
              "<style scoped>\n",
              "    .dataframe tbody tr th:only-of-type {\n",
              "        vertical-align: middle;\n",
              "    }\n",
              "\n",
              "    .dataframe tbody tr th {\n",
              "        vertical-align: top;\n",
              "    }\n",
              "\n",
              "    .dataframe thead th {\n",
              "        text-align: right;\n",
              "    }\n",
              "</style>\n",
              "<table border=\"1\" class=\"dataframe\">\n",
              "  <thead>\n",
              "    <tr style=\"text-align: right;\">\n",
              "      <th></th>\n",
              "      <th>Pregnancies</th>\n",
              "      <th>Glucose</th>\n",
              "      <th>BloodPressure</th>\n",
              "      <th>SkinThickness</th>\n",
              "      <th>Insulin</th>\n",
              "      <th>BMI</th>\n",
              "      <th>DiabetesPedigreeFunction</th>\n",
              "      <th>Age</th>\n",
              "      <th>Outcome</th>\n",
              "    </tr>\n",
              "  </thead>\n",
              "  <tbody>\n",
              "    <tr>\n",
              "      <th>count</th>\n",
              "      <td>152.000000</td>\n",
              "      <td>152.000000</td>\n",
              "      <td>152.000000</td>\n",
              "      <td>152.000000</td>\n",
              "      <td>152.000000</td>\n",
              "      <td>152.000000</td>\n",
              "      <td>152.000000</td>\n",
              "      <td>152.000000</td>\n",
              "      <td>152.000000</td>\n",
              "    </tr>\n",
              "    <tr>\n",
              "      <th>mean</th>\n",
              "      <td>4.394737</td>\n",
              "      <td>120.026316</td>\n",
              "      <td>72.342105</td>\n",
              "      <td>20.368421</td>\n",
              "      <td>72.618421</td>\n",
              "      <td>31.426974</td>\n",
              "      <td>0.429283</td>\n",
              "      <td>34.947368</td>\n",
              "      <td>0.368421</td>\n",
              "    </tr>\n",
              "    <tr>\n",
              "      <th>std</th>\n",
              "      <td>3.632374</td>\n",
              "      <td>27.684109</td>\n",
              "      <td>17.413592</td>\n",
              "      <td>15.544716</td>\n",
              "      <td>107.098329</td>\n",
              "      <td>6.653237</td>\n",
              "      <td>0.304807</td>\n",
              "      <td>11.350403</td>\n",
              "      <td>0.483971</td>\n",
              "    </tr>\n",
              "    <tr>\n",
              "      <th>min</th>\n",
              "      <td>0.000000</td>\n",
              "      <td>73.000000</td>\n",
              "      <td>0.000000</td>\n",
              "      <td>0.000000</td>\n",
              "      <td>0.000000</td>\n",
              "      <td>0.000000</td>\n",
              "      <td>0.100000</td>\n",
              "      <td>21.000000</td>\n",
              "      <td>0.000000</td>\n",
              "    </tr>\n",
              "    <tr>\n",
              "      <th>25%</th>\n",
              "      <td>1.000000</td>\n",
              "      <td>101.000000</td>\n",
              "      <td>66.000000</td>\n",
              "      <td>0.000000</td>\n",
              "      <td>0.000000</td>\n",
              "      <td>26.575000</td>\n",
              "      <td>0.242500</td>\n",
              "      <td>26.000000</td>\n",
              "      <td>0.000000</td>\n",
              "    </tr>\n",
              "    <tr>\n",
              "      <th>50%</th>\n",
              "      <td>3.000000</td>\n",
              "      <td>111.500000</td>\n",
              "      <td>74.500000</td>\n",
              "      <td>21.500000</td>\n",
              "      <td>0.000000</td>\n",
              "      <td>32.000000</td>\n",
              "      <td>0.326000</td>\n",
              "      <td>32.000000</td>\n",
              "      <td>0.000000</td>\n",
              "    </tr>\n",
              "    <tr>\n",
              "      <th>75%</th>\n",
              "      <td>7.000000</td>\n",
              "      <td>130.000000</td>\n",
              "      <td>84.000000</td>\n",
              "      <td>33.000000</td>\n",
              "      <td>120.000000</td>\n",
              "      <td>36.075000</td>\n",
              "      <td>0.526000</td>\n",
              "      <td>43.000000</td>\n",
              "      <td>1.000000</td>\n",
              "    </tr>\n",
              "    <tr>\n",
              "      <th>max</th>\n",
              "      <td>13.000000</td>\n",
              "      <td>197.000000</td>\n",
              "      <td>96.000000</td>\n",
              "      <td>48.000000</td>\n",
              "      <td>846.000000</td>\n",
              "      <td>45.800000</td>\n",
              "      <td>2.288000</td>\n",
              "      <td>66.000000</td>\n",
              "      <td>1.000000</td>\n",
              "    </tr>\n",
              "  </tbody>\n",
              "</table>\n",
              "</div>\n",
              "    <div class=\"colab-df-buttons\">\n",
              "\n",
              "  <div class=\"colab-df-container\">\n",
              "    <button class=\"colab-df-convert\" onclick=\"convertToInteractive('df-ba481592-f866-4e8f-9a0e-b855b6d00b53')\"\n",
              "            title=\"Convert this dataframe to an interactive table.\"\n",
              "            style=\"display:none;\">\n",
              "\n",
              "  <svg xmlns=\"http://www.w3.org/2000/svg\" height=\"24px\" viewBox=\"0 -960 960 960\">\n",
              "    <path d=\"M120-120v-720h720v720H120Zm60-500h600v-160H180v160Zm220 220h160v-160H400v160Zm0 220h160v-160H400v160ZM180-400h160v-160H180v160Zm440 0h160v-160H620v160ZM180-180h160v-160H180v160Zm440 0h160v-160H620v160Z\"/>\n",
              "  </svg>\n",
              "    </button>\n",
              "\n",
              "  <style>\n",
              "    .colab-df-container {\n",
              "      display:flex;\n",
              "      gap: 12px;\n",
              "    }\n",
              "\n",
              "    .colab-df-convert {\n",
              "      background-color: #E8F0FE;\n",
              "      border: none;\n",
              "      border-radius: 50%;\n",
              "      cursor: pointer;\n",
              "      display: none;\n",
              "      fill: #1967D2;\n",
              "      height: 32px;\n",
              "      padding: 0 0 0 0;\n",
              "      width: 32px;\n",
              "    }\n",
              "\n",
              "    .colab-df-convert:hover {\n",
              "      background-color: #E2EBFA;\n",
              "      box-shadow: 0px 1px 2px rgba(60, 64, 67, 0.3), 0px 1px 3px 1px rgba(60, 64, 67, 0.15);\n",
              "      fill: #174EA6;\n",
              "    }\n",
              "\n",
              "    .colab-df-buttons div {\n",
              "      margin-bottom: 4px;\n",
              "    }\n",
              "\n",
              "    [theme=dark] .colab-df-convert {\n",
              "      background-color: #3B4455;\n",
              "      fill: #D2E3FC;\n",
              "    }\n",
              "\n",
              "    [theme=dark] .colab-df-convert:hover {\n",
              "      background-color: #434B5C;\n",
              "      box-shadow: 0px 1px 3px 1px rgba(0, 0, 0, 0.15);\n",
              "      filter: drop-shadow(0px 1px 2px rgba(0, 0, 0, 0.3));\n",
              "      fill: #FFFFFF;\n",
              "    }\n",
              "  </style>\n",
              "\n",
              "    <script>\n",
              "      const buttonEl =\n",
              "        document.querySelector('#df-ba481592-f866-4e8f-9a0e-b855b6d00b53 button.colab-df-convert');\n",
              "      buttonEl.style.display =\n",
              "        google.colab.kernel.accessAllowed ? 'block' : 'none';\n",
              "\n",
              "      async function convertToInteractive(key) {\n",
              "        const element = document.querySelector('#df-ba481592-f866-4e8f-9a0e-b855b6d00b53');\n",
              "        const dataTable =\n",
              "          await google.colab.kernel.invokeFunction('convertToInteractive',\n",
              "                                                    [key], {});\n",
              "        if (!dataTable) return;\n",
              "\n",
              "        const docLinkHtml = 'Like what you see? Visit the ' +\n",
              "          '<a target=\"_blank\" href=https://colab.research.google.com/notebooks/data_table.ipynb>data table notebook</a>'\n",
              "          + ' to learn more about interactive tables.';\n",
              "        element.innerHTML = '';\n",
              "        dataTable['output_type'] = 'display_data';\n",
              "        await google.colab.output.renderOutput(dataTable, element);\n",
              "        const docLink = document.createElement('div');\n",
              "        docLink.innerHTML = docLinkHtml;\n",
              "        element.appendChild(docLink);\n",
              "      }\n",
              "    </script>\n",
              "  </div>\n",
              "\n",
              "\n",
              "    <div id=\"df-46400cb2-4531-41d4-93cc-96f31b5d6bb3\">\n",
              "      <button class=\"colab-df-quickchart\" onclick=\"quickchart('df-46400cb2-4531-41d4-93cc-96f31b5d6bb3')\"\n",
              "                title=\"Suggest charts\"\n",
              "                style=\"display:none;\">\n",
              "\n",
              "<svg xmlns=\"http://www.w3.org/2000/svg\" height=\"24px\"viewBox=\"0 0 24 24\"\n",
              "     width=\"24px\">\n",
              "    <g>\n",
              "        <path d=\"M19 3H5c-1.1 0-2 .9-2 2v14c0 1.1.9 2 2 2h14c1.1 0 2-.9 2-2V5c0-1.1-.9-2-2-2zM9 17H7v-7h2v7zm4 0h-2V7h2v10zm4 0h-2v-4h2v4z\"/>\n",
              "    </g>\n",
              "</svg>\n",
              "      </button>\n",
              "\n",
              "<style>\n",
              "  .colab-df-quickchart {\n",
              "      --bg-color: #E8F0FE;\n",
              "      --fill-color: #1967D2;\n",
              "      --hover-bg-color: #E2EBFA;\n",
              "      --hover-fill-color: #174EA6;\n",
              "      --disabled-fill-color: #AAA;\n",
              "      --disabled-bg-color: #DDD;\n",
              "  }\n",
              "\n",
              "  [theme=dark] .colab-df-quickchart {\n",
              "      --bg-color: #3B4455;\n",
              "      --fill-color: #D2E3FC;\n",
              "      --hover-bg-color: #434B5C;\n",
              "      --hover-fill-color: #FFFFFF;\n",
              "      --disabled-bg-color: #3B4455;\n",
              "      --disabled-fill-color: #666;\n",
              "  }\n",
              "\n",
              "  .colab-df-quickchart {\n",
              "    background-color: var(--bg-color);\n",
              "    border: none;\n",
              "    border-radius: 50%;\n",
              "    cursor: pointer;\n",
              "    display: none;\n",
              "    fill: var(--fill-color);\n",
              "    height: 32px;\n",
              "    padding: 0;\n",
              "    width: 32px;\n",
              "  }\n",
              "\n",
              "  .colab-df-quickchart:hover {\n",
              "    background-color: var(--hover-bg-color);\n",
              "    box-shadow: 0 1px 2px rgba(60, 64, 67, 0.3), 0 1px 3px 1px rgba(60, 64, 67, 0.15);\n",
              "    fill: var(--button-hover-fill-color);\n",
              "  }\n",
              "\n",
              "  .colab-df-quickchart-complete:disabled,\n",
              "  .colab-df-quickchart-complete:disabled:hover {\n",
              "    background-color: var(--disabled-bg-color);\n",
              "    fill: var(--disabled-fill-color);\n",
              "    box-shadow: none;\n",
              "  }\n",
              "\n",
              "  .colab-df-spinner {\n",
              "    border: 2px solid var(--fill-color);\n",
              "    border-color: transparent;\n",
              "    border-bottom-color: var(--fill-color);\n",
              "    animation:\n",
              "      spin 1s steps(1) infinite;\n",
              "  }\n",
              "\n",
              "  @keyframes spin {\n",
              "    0% {\n",
              "      border-color: transparent;\n",
              "      border-bottom-color: var(--fill-color);\n",
              "      border-left-color: var(--fill-color);\n",
              "    }\n",
              "    20% {\n",
              "      border-color: transparent;\n",
              "      border-left-color: var(--fill-color);\n",
              "      border-top-color: var(--fill-color);\n",
              "    }\n",
              "    30% {\n",
              "      border-color: transparent;\n",
              "      border-left-color: var(--fill-color);\n",
              "      border-top-color: var(--fill-color);\n",
              "      border-right-color: var(--fill-color);\n",
              "    }\n",
              "    40% {\n",
              "      border-color: transparent;\n",
              "      border-right-color: var(--fill-color);\n",
              "      border-top-color: var(--fill-color);\n",
              "    }\n",
              "    60% {\n",
              "      border-color: transparent;\n",
              "      border-right-color: var(--fill-color);\n",
              "    }\n",
              "    80% {\n",
              "      border-color: transparent;\n",
              "      border-right-color: var(--fill-color);\n",
              "      border-bottom-color: var(--fill-color);\n",
              "    }\n",
              "    90% {\n",
              "      border-color: transparent;\n",
              "      border-bottom-color: var(--fill-color);\n",
              "    }\n",
              "  }\n",
              "</style>\n",
              "\n",
              "      <script>\n",
              "        async function quickchart(key) {\n",
              "          const quickchartButtonEl =\n",
              "            document.querySelector('#' + key + ' button');\n",
              "          quickchartButtonEl.disabled = true;  // To prevent multiple clicks.\n",
              "          quickchartButtonEl.classList.add('colab-df-spinner');\n",
              "          try {\n",
              "            const charts = await google.colab.kernel.invokeFunction(\n",
              "                'suggestCharts', [key], {});\n",
              "          } catch (error) {\n",
              "            console.error('Error during call to suggestCharts:', error);\n",
              "          }\n",
              "          quickchartButtonEl.classList.remove('colab-df-spinner');\n",
              "          quickchartButtonEl.classList.add('colab-df-quickchart-complete');\n",
              "        }\n",
              "        (() => {\n",
              "          let quickchartButtonEl =\n",
              "            document.querySelector('#df-46400cb2-4531-41d4-93cc-96f31b5d6bb3 button');\n",
              "          quickchartButtonEl.style.display =\n",
              "            google.colab.kernel.accessAllowed ? 'block' : 'none';\n",
              "        })();\n",
              "      </script>\n",
              "    </div>\n",
              "\n",
              "    </div>\n",
              "  </div>\n"
            ],
            "text/plain": [
              "       Pregnancies     Glucose  BloodPressure  SkinThickness     Insulin  \\\n",
              "count   152.000000  152.000000     152.000000     152.000000  152.000000   \n",
              "mean      4.394737  120.026316      72.342105      20.368421   72.618421   \n",
              "std       3.632374   27.684109      17.413592      15.544716  107.098329   \n",
              "min       0.000000   73.000000       0.000000       0.000000    0.000000   \n",
              "25%       1.000000  101.000000      66.000000       0.000000    0.000000   \n",
              "50%       3.000000  111.500000      74.500000      21.500000    0.000000   \n",
              "75%       7.000000  130.000000      84.000000      33.000000  120.000000   \n",
              "max      13.000000  197.000000      96.000000      48.000000  846.000000   \n",
              "\n",
              "              BMI  DiabetesPedigreeFunction         Age     Outcome  \n",
              "count  152.000000                152.000000  152.000000  152.000000  \n",
              "mean    31.426974                  0.429283   34.947368    0.368421  \n",
              "std      6.653237                  0.304807   11.350403    0.483971  \n",
              "min      0.000000                  0.100000   21.000000    0.000000  \n",
              "25%     26.575000                  0.242500   26.000000    0.000000  \n",
              "50%     32.000000                  0.326000   32.000000    0.000000  \n",
              "75%     36.075000                  0.526000   43.000000    1.000000  \n",
              "max     45.800000                  2.288000   66.000000    1.000000  "
            ]
          },
          "execution_count": 5,
          "metadata": {},
          "output_type": "execute_result"
        }
      ],
      "source": [
        "# Resumen estadístico de las variables numéricas\n",
        "df.describe()"
      ]
    },
    {
      "cell_type": "markdown",
      "metadata": {
        "id": "FBuMzCPzVRwv"
      },
      "source": [
        "**Observaciones del resumen estadístico:**\n",
        "\n",
        "*   **Valores mínimos de 0:** Las columnas `BloodPressure`, `SkinThickness`, `Insulin` y `BMI` tienen valores mínimos de 0. Esto es biológicamente imposible y sugiere que los ceros se están utilizando para representar datos faltantes. Esto deberá ser tratado en la fase de preparación de datos.\n",
        "*   **Valores máximos (posibles datos atípicos):** La columna `Insulin` tiene un valor máximo muy alto. `DiabetesPedigreeFunction` también tiene un valor máximo que parece un dato atípico en comparación con la media. Estos valores deberán ser investigados."
      ]
    },
    {
      "cell_type": "markdown",
      "metadata": {
        "id": "pDHELeVDVRwv"
      },
      "source": [
        "**¿Qué hace este código?**\n",
        "\n",
        "Cuenta cuántos casos hay de cada clase en la variable objetivo (diabético vs no diabético).\n",
        "\n",
        "**Resultado esperado:** Un conteo que muestra la distribución de clases en nuestro dataset."
      ]
    },
    {
      "cell_type": "code",
      "execution_count": null,
      "metadata": {
        "colab": {
          "base_uri": "https://localhost:8080/"
        },
        "id": "giuBRRp7VRww",
        "outputId": "a14732f4-344e-4620-aaaa-10177bf95bd8"
      },
      "outputs": [
        {
          "name": "stdout",
          "output_type": "stream",
          "text": [
            "Distribución de la variable objetivo:\n",
            "Outcome\n",
            "0    96\n",
            "1    56\n",
            "Name: count, dtype: int64\n",
            "\n",
            "Porcentajes:\n",
            "Outcome\n",
            "0    63.157895\n",
            "1    36.842105\n",
            "Name: proportion, dtype: float64\n"
          ]
        }
      ],
      "source": [
        "# Contar los valores en la variable objetivo (Outcome)\n",
        "print(\"Distribución de la variable objetivo:\")\n",
        "print(df[\"Outcome\"].value_counts())\n",
        "print(\"\\nPorcentajes:\")\n",
        "print(df[\"Outcome\"].value_counts(normalize=True) * 100)"
      ]
    },
    {
      "cell_type": "markdown",
      "metadata": {
        "id": "Nqzg0FiUVRww"
      },
      "source": [
        "**Observaciones de la variable objetivo:**\n",
        "\n",
        "*   El dataset está algo desbalanceado, con más casos de no diabéticos (0) que de diabéticos (1). Esto es común en datasets médicos y es algo a tener en cuenta durante el modelado y la evaluación."
      ]
    },
    {
      "cell_type": "markdown",
      "metadata": {
        "id": "20TJDZNWVRwx"
      },
      "source": [
        "### Fase 3: Preparación de los Datos\n",
        "\n",
        "Esta es una de las fases más importantes. Aquí limpiaremos los datos, manejaremos los valores faltantes y atípicos, y prepararemos el dataset para el modelado."
      ]
    },
    {
      "cell_type": "markdown",
      "metadata": {
        "id": "QKAV_CYQVRwx"
      },
      "source": [
        "#### 3.1. Manejo de Valores Faltantes (representados como 0)\n",
        "\n",
        "Como identificamos anteriormente, las columnas `BloodPressure`, `SkinThickness`, `Insulin` y `BMI` tienen ceros que probablemente representan datos faltantes. Reemplazaremos estos ceros con `NaN` (Not a Number) para poder manejarlos adecuadamente."
      ]
    },
    {
      "cell_type": "markdown",
      "metadata": {
        "id": "x5lwpR8gVRwx"
      },
      "source": [
        "**¿Qué hace este código?**\n",
        "\n",
        "Reemplaza los valores 0 con NaN (valores nulos) en las columnas donde 0 no es biológicamente posible, y luego cuenta cuántos valores nulos tenemos en cada columna.\n",
        "\n",
        "**Resultado esperado:** Un conteo de valores nulos por columna, mostrando dónde tenemos datos faltantes."
      ]
    },
    {
      "cell_type": "code",
      "execution_count": null,
      "metadata": {
        "colab": {
          "base_uri": "https://localhost:8080/"
        },
        "id": "7M_0BKrWVRwy",
        "outputId": "5455f830-c6a5-4d41-ea0e-552f933007e2"
      },
      "outputs": [
        {
          "name": "stdout",
          "output_type": "stream",
          "text": [
            "Valores nulos por columna:\n",
            "Pregnancies                  0\n",
            "Glucose                      0\n",
            "BloodPressure                4\n",
            "SkinThickness               43\n",
            "Insulin                     79\n",
            "BMI                          1\n",
            "DiabetesPedigreeFunction     0\n",
            "Age                          0\n",
            "Outcome                      0\n",
            "dtype: int64\n",
            "\n",
            "Porcentaje de valores nulos por columna:\n",
            "Pregnancies                  0.000000\n",
            "Glucose                      0.000000\n",
            "BloodPressure                2.631579\n",
            "SkinThickness               28.289474\n",
            "Insulin                     51.973684\n",
            "BMI                          0.657895\n",
            "DiabetesPedigreeFunction     0.000000\n",
            "Age                          0.000000\n",
            "Outcome                      0.000000\n",
            "dtype: float64\n"
          ]
        }
      ],
      "source": [
        "import numpy as np\n",
        "\n",
        "# Definir las columnas que pueden tener ceros como valores faltantes\n",
        "cols_con_ceros = [\"Glucose\", \"BloodPressure\", \"SkinThickness\", \"Insulin\", \"BMI\"]\n",
        "\n",
        "# Reemplazar 0 con NaN en estas columnas\n",
        "df[cols_con_ceros] = df[cols_con_ceros].replace(0, np.nan)\n",
        "\n",
        "# Verificar cuántos valores nulos tenemos ahora\n",
        "print(\"Valores nulos por columna:\")\n",
        "print(df.isnull().sum())\n",
        "print(\"\\nPorcentaje de valores nulos por columna:\")\n",
        "print((df.isnull().sum() / len(df)) * 100)"
      ]
    },
    {
      "cell_type": "markdown",
      "metadata": {
        "id": "eGW8mYb8VRwz"
      },
      "source": [
        "Ahora que tenemos los valores faltantes como `NaN`, podemos decidir cómo imputarlos. Una estrategia común es reemplazar los `NaN` con la media o la mediana de la columna. La mediana es generalmente más robusta a los datos atípicos."
      ]
    },
    {
      "cell_type": "code",
      "execution_count": null,
      "metadata": {
        "colab": {
          "base_uri": "https://localhost:8080/"
        },
        "id": "6kJcJZHCYNCB",
        "outputId": "8ac7edee-a558-43d0-c482-2165b6e2339f"
      },
      "outputs": [
        {
          "name": "stdout",
          "output_type": "stream",
          "text": [
            "True\n"
          ]
        }
      ],
      "source": [
        "# Ver si existe al menos un NaN en todo el dataset\n",
        "print(df.isnull().values.any())"
      ]
    },
    {
      "cell_type": "markdown",
      "metadata": {
        "id": "Mqp2XixYVRwz"
      },
      "source": [
        "**¿Qué hace este código?**\n",
        "\n",
        "Rellena los valores nulos con la mediana de cada columna. La mediana es menos sensible a valores extremos que la media.\n",
        "\n",
        "**Resultado esperado:** Un dataset sin valores nulos, donde los valores faltantes han sido reemplazados por la mediana de cada columna."
      ]
    },
    {
      "cell_type": "code",
      "execution_count": null,
      "metadata": {
        "colab": {
          "base_uri": "https://localhost:8080/"
        },
        "id": "5s0RPOtJVRw0",
        "outputId": "96450b7e-d196-4a92-a16b-61ef96c22bb5"
      },
      "outputs": [
        {
          "name": "stdout",
          "output_type": "stream",
          "text": [
            "Columna Glucose: valores nulos rellenados con mediana = 111.50\n",
            "Columna BloodPressure: valores nulos rellenados con mediana = 75.50\n",
            "Columna SkinThickness: valores nulos rellenados con mediana = 29.00\n",
            "Columna Insulin: valores nulos rellenados con mediana = 140.00\n",
            "Columna BMI: valores nulos rellenados con mediana = 32.00\n"
          ]
        },
        {
          "name": "stderr",
          "output_type": "stream",
          "text": [
            "/tmp/ipython-input-880791201.py:4: FutureWarning: A value is trying to be set on a copy of a DataFrame or Series through chained assignment using an inplace method.\n",
            "The behavior will change in pandas 3.0. This inplace method will never work because the intermediate object on which we are setting values always behaves as a copy.\n",
            "\n",
            "For example, when doing 'df[col].method(value, inplace=True)', try using 'df.method({col: value}, inplace=True)' or df[col] = df[col].method(value) instead, to perform the operation inplace on the original object.\n",
            "\n",
            "\n",
            "  df[col].fillna(mediana, inplace=True)\n"
          ]
        }
      ],
      "source": [
        "# Imputar los valores nulos con la mediana de cada columna\n",
        "for col in cols_con_ceros:\n",
        "    mediana = df[col].median()\n",
        "    df[col].fillna(mediana, inplace=True)\n",
        "    print(f\"Columna {col}: valores nulos rellenados con mediana = {mediana:.2f}\")"
      ]
    },
    {
      "cell_type": "markdown",
      "metadata": {
        "id": "jEYzvxw4VRw1"
      },
      "source": [
        "**¿Qué hace este código?**\n",
        "\n",
        "Verifica que ya no hay valores nulos en el dataset después de la imputación.\n",
        "\n",
        "**Resultado esperado:** Todos los valores deben ser 0, indicando que no hay valores nulos."
      ]
    },
    {
      "cell_type": "code",
      "execution_count": null,
      "metadata": {
        "colab": {
          "base_uri": "https://localhost:8080/"
        },
        "id": "zlBBAlR2VRw1",
        "outputId": "707f6c3e-5601-46e0-8a5d-4e644aaa1bfb"
      },
      "outputs": [
        {
          "name": "stdout",
          "output_type": "stream",
          "text": [
            "Verificación - Valores nulos después de la imputación:\n",
            "Pregnancies                 0\n",
            "Glucose                     0\n",
            "BloodPressure               0\n",
            "SkinThickness               0\n",
            "Insulin                     0\n",
            "BMI                         0\n",
            "DiabetesPedigreeFunction    0\n",
            "Age                         0\n",
            "Outcome                     0\n",
            "dtype: int64\n"
          ]
        }
      ],
      "source": [
        "# Verificar que ya no hay valores nulos\n",
        "print(\"Verificación - Valores nulos después de la imputación:\")\n",
        "print(df.isnull().sum())"
      ]
    },
    {
      "cell_type": "markdown",
      "metadata": {
        "id": "uNkGHiujVRw2"
      },
      "source": [
        "#### 3.2. Manejo de Datos Atípicos (Outliers)\n",
        "\n",
        "Los datos atípicos pueden afectar negativamente el rendimiento del modelo. Podemos visualizarlos usando box plots y luego decidir cómo manejarlos. Una estrategia común es reemplazar los outliers con un valor límite (capping)."
      ]
    },
    {
      "cell_type": "markdown",
      "metadata": {
        "id": "bOi1B0KlVRw3"
      },
      "source": [
        "**¿Qué hace este código?**\n",
        "\n",
        "Crea un gráfico de cajas (box plot) para visualizar la distribución de todas las variables y identificar valores atípicos.\n",
        "\n",
        "**Resultado esperado:** Un gráfico que muestra la distribución de cada variable, donde los puntos fuera de las \"cajas\" representan valores atípicos."
      ]
    },
    {
      "cell_type": "code",
      "execution_count": null,
      "metadata": {
        "colab": {
          "base_uri": "https://localhost:8080/",
          "height": 878
        },
        "id": "QZF41tXFVRw3",
        "outputId": "b3d78be6-473b-404a-9c36-187faeaab2d0"
      },
      "outputs": [
        {
          "data": {
            "image/png": "[encoded data removed]",
            "text/plain": [
              "<Figure size 1500x1000 with 1 Axes>"
            ]
          },
          "metadata": {},
          "output_type": "display_data"
        }
      ],
      "source": [
        "import matplotlib.pyplot as plt\n",
        "import seaborn as sns\n",
        "\n",
        "# Configurar el estilo de los gráficos\n",
        "plt.style.use('default')\n",
        "sns.set_palette(\"husl\")\n",
        "\n",
        "# Crear box plot para visualizar outliers\n",
        "plt.figure(figsize=(15, 10))\n",
        "sns.boxplot(data=df, orient=\"h\")\n",
        "plt.title(\"Box Plot de las Características - Antes del Tratamiento de Outliers\", fontsize=16)\n",
        "plt.xlabel(\"Valores\", fontsize=12)\n",
        "plt.ylabel(\"Características\", fontsize=12)\n",
        "plt.show()"
      ]
    },
    {
      "cell_type": "markdown",
      "metadata": {
        "id": "2yRr-6_RVRw4"
      },
      "source": [
        "**Observaciones de los Box Plots:**\n",
        "\n",
        "*   Se pueden observar outliers en varias columnas, como `Insulin`, `SkinThickness`, etc.\n",
        "\n",
        "Vamos a aplicar una técnica de capping para limitar los valores extremos. Usaremos el Rango Intercuartílico (IQR) para definir los límites."
      ]
    },
    {
      "cell_type": "markdown",
      "metadata": {
        "id": "fsd7-Xi3VRw4"
      },
      "source": [
        "**¿Qué hace este código?**\n",
        "\n",
        "Aplica la técnica de \"capping\" para limitar los valores extremos. Calcula el rango intercuartílico (IQR) y establece límites superior e inferior para cada variable, reemplazando los valores que excedan estos límites.\n",
        "\n",
        "**Resultado esperado:** Los valores extremos serán limitados a los valores de los límites calculados, reduciendo el impacto de los outliers."
      ]
    },
    {
      "cell_type": "code",
      "execution_count": null,
      "metadata": {
        "colab": {
          "base_uri": "https://localhost:8080/"
        },
        "id": "uxbWBtr2VRw4",
        "outputId": "6b1c4ffa-924b-41f6-bb97-0361d36f9b1f"
      },
      "outputs": [
        {
          "name": "stdout",
          "output_type": "stream",
          "text": [
            "Pregnancies: 0 outliers tratados. Rango: [-8.00, 16.00]\n",
            "Glucose: 11 outliers tratados. Rango: [57.50, 173.50]\n",
            "BloodPressure: 2 outliers tratados. Rango: [39.00, 111.00]\n",
            "SkinThickness: 13 outliers tratados. Rango: [13.00, 45.00]\n",
            "Insulin: 69 outliers tratados. Rango: [140.00, 140.00]\n",
            "BMI: 0 outliers tratados. Rango: [13.32, 49.73]\n",
            "DiabetesPedigreeFunction: 10 outliers tratados. Rango: [-0.18, 0.95]\n",
            "Age: 0 outliers tratados. Rango: [0.50, 68.50]\n"
          ]
        }
      ],
      "source": [
        "# Aplicar capping de outliers usando el método IQR\n",
        "for col in df.columns.drop(\"Outcome\"):\n",
        "    Q1 = df[col].quantile(0.25)  # Primer cuartil\n",
        "    Q3 = df[col].quantile(0.75)  # Tercer cuartil\n",
        "    IQR = Q3 - Q1  # Rango intercuartílico\n",
        "    lower_bound = Q1 - 1.5 * IQR  # Límite inferior\n",
        "    upper_bound = Q3 + 1.5 * IQR  # Límite superior\n",
        "\n",
        "    # Contar outliers antes del capping\n",
        "    outliers_antes = ((df[col] < lower_bound) | (df[col] > upper_bound)).sum()\n",
        "\n",
        "    # Aplicar capping\n",
        "    df[col] = np.clip(df[col], lower_bound, upper_bound)\n",
        "\n",
        "    print(f\"{col}: {outliers_antes} outliers tratados. Rango: [{lower_bound:.2f}, {upper_bound:.2f}]\")"
      ]
    },
    {
      "cell_type": "markdown",
      "metadata": {
        "id": "xdbF3I2IVRw5"
      },
      "source": [
        "**¿Qué hace este código?**\n",
        "\n",
        "Crea un nuevo box plot para visualizar cómo se ven los datos después del tratamiento de outliers.\n",
        "\n",
        "**Resultado esperado:** Un gráfico que muestra una distribución más \"limpia\" con menos valores extremos."
      ]
    },
    {
      "cell_type": "code",
      "execution_count": null,
      "metadata": {
        "colab": {
          "base_uri": "https://localhost:8080/",
          "height": 880
        },
        "id": "kAbSPei0VRw6",
        "outputId": "c44ec13f-d905-4b30-939a-e27b6f4df01e"
      },
      "outputs": [
        {
          "data": {
            "image/png": "[encoded data removed]",
            "text/plain": [
              "<Figure size 1500x1000 with 1 Axes>"
            ]
          },
          "metadata": {},
          "output_type": "display_data"
        }
      ],
      "source": [
        "# Visualizar los box plots después del capping\n",
        "plt.figure(figsize=(15, 10))\n",
        "sns.boxplot(data=df, orient=\"h\")\n",
        "plt.title(\"Box Plot de las Características - Después del Tratamiento de Outliers\", fontsize=16)\n",
        "plt.xlabel(\"Valores\", fontsize=12)\n",
        "plt.ylabel(\"Características\", fontsize=12)\n",
        "plt.show()"
      ]
    },
    {
      "cell_type": "markdown",
      "metadata": {
        "id": "L7LD2cffVRw7"
      },
      "source": [
        "#### 3.3. Escalado de Características\n",
        "\n",
        "Dado que las características tienen diferentes rangos de valores, es importante escalarlas para que el modelo de Regresión Logística no se vea sesgado por las características con valores más grandes. Usaremos `StandardScaler` de scikit-learn, que estandariza las características para que tengan una media de 0 y una desviación estándar de 1."
      ]
    },
    {
      "cell_type": "markdown",
      "metadata": {
        "id": "x4-TpdA_VRw8"
      },
      "source": [
        "**¿Qué hace este código?**\n",
        "\n",
        "Separa las características (X) de la variable objetivo (y), y luego aplica escalado estándar a las características. Esto normaliza todas las variables para que tengan media 0 y desviación estándar 1.\n",
        "\n",
        "**Resultado esperado:** Las características estarán en la misma escala, lo que mejorará el rendimiento del algoritmo de regresión logística."
      ]
    },
    {
      "cell_type": "code",
      "execution_count": null,
      "metadata": {
        "colab": {
          "base_uri": "https://localhost:8080/"
        },
        "id": "7rkdiyHgVRw8",
        "outputId": "572157fe-71ff-4e7d-9859-423117beacc6"
      },
      "outputs": [
        {
          "name": "stdout",
          "output_type": "stream",
          "text": [
            "Características (X): (152, 8)\n",
            "Variable objetivo (y): (152,)\n",
            "\n",
            "Escalado completado. Estadísticas de las características escaladas:\n",
            "Media: [0.0, 0.0, 0.0, -0.0, 0.0, 0.0, -0.0, 0.0]\n",
            "Desviación estándar: [1.0, 1.0, 1.0, 1.0, 0.0, 1.0, 1.0, 1.0]\n"
          ]
        }
      ],
      "source": [
        "from sklearn.preprocessing import StandardScaler\n",
        "\n",
        "# Separar características (X) y variable objetivo (y)\n",
        "X = df.drop(\"Outcome\", axis=1)\n",
        "y = df[\"Outcome\"]\n",
        "\n",
        "print(f\"Características (X): {X.shape}\")\n",
        "print(f\"Variable objetivo (y): {y.shape}\")\n",
        "\n",
        "# Aplicar escalado estándar\n",
        "scaler = StandardScaler()\n",
        "X_scaled = scaler.fit_transform(X)\n",
        "\n",
        "# Convertir de nuevo a DataFrame para facilitar la visualización\n",
        "X_scaled = pd.DataFrame(X_scaled, columns=X.columns)\n",
        "\n",
        "print(\"\\nEscalado completado. Estadísticas de las características escaladas:\")\n",
        "print(f\"Media: {X_scaled.mean().round(2).tolist()}\")\n",
        "print(f\"Desviación estándar: {X_scaled.std().round(2).tolist()}\")"
      ]
    },
    {
      "cell_type": "markdown",
      "metadata": {
        "id": "jjcCAKCHVRxD"
      },
      "source": [
        "**¿Qué hace este código?**\n",
        "\n",
        "Muestra las primeras filas de los datos escalados para verificar que el escalado se aplicó correctamente.\n",
        "\n",
        "**Resultado esperado:** Los valores ahora estarán centrados alrededor de 0 y tendrán una escala similar."
      ]
    },
    {
      "cell_type": "code",
      "execution_count": null,
      "metadata": {
        "colab": {
          "base_uri": "https://localhost:8080/",
          "height": 224
        },
        "id": "yNnbUZXwVRxE",
        "outputId": "11a2207e-940b-46d4-f54f-0ab742820154"
      },
      "outputs": [
        {
          "name": "stdout",
          "output_type": "stream",
          "text": [
            "Primeras 5 filas de los datos escalados:\n"
          ]
        },
        {
          "data": {
            "application/vnd.google.colaboratory.intrinsic+json": {
              "summary": "{\n  \"name\": \"X_scaled\",\n  \"rows\": 152,\n  \"fields\": [\n    {\n      \"column\": \"Pregnancies\",\n      \"properties\": {\n        \"dtype\": \"number\",\n        \"std\": 1.0033057941406955,\n        \"min\": -1.2138795082975324,\n        \"max\": 2.3768778396005574,\n        \"num_unique_values\": 14,\n        \"samples\": [\n          0.7196052174937468,\n          1.8244536322316207,\n          0.4433931138092784\n        ],\n        \"semantic_type\": \"\",\n        \"description\": \"\"\n      }\n    },\n    {\n      \"column\": \"Glucose\",\n      \"properties\": {\n        \"dtype\": \"number\",\n        \"std\": 1.0033057941406953,\n        \"min\": -1.8268802800953534,\n        \"max\": 2.1635999027510926,\n        \"num_unique_values\": 53,\n        \"samples\": [\n          -0.0003918381954876121,\n          -1.5092301162866812,\n          -0.9136360591454206\n        ],\n        \"semantic_type\": \"\",\n        \"description\": \"\"\n      }\n    },\n    {\n      \"column\": \"BloodPressure\",\n      \"properties\": {\n        \"dtype\": \"number\",\n        \"std\": 1.0033057941406955,\n        \"min\": -2.8905546121763286,\n        \"max\": 1.7575087062898394,\n        \"num_unique_values\": 26,\n        \"samples\": [\n          1.7575087062898394,\n          1.5944187652910264,\n          -0.19957058569591568\n        ],\n        \"semantic_type\": \"\",\n        \"description\": \"\"\n      }\n    },\n    {\n      \"column\": \"SkinThickness\",\n      \"properties\": {\n        \"dtype\": \"number\",\n        \"std\": 1.0033057941406958,\n        \"min\": -1.8953876940990864,\n        \"max\": 1.9798396048071583,\n        \"num_unique_values\": 26,\n        \"samples\": [\n          1.4954361924438777,\n          1.6165370455346977,\n          0.7688310738989568\n        ],\n        \"semantic_type\": \"\",\n        \"description\": \"\"\n      }\n    },\n    {\n      \"column\": \"Insulin\",\n      \"properties\": {\n        \"dtype\": \"number\",\n        \"std\": 0.0,\n        \"min\": 0.0,\n        \"max\": 0.0,\n        \"num_unique_values\": 1,\n        \"samples\": [\n          0.0\n        ],\n        \"semantic_type\": \"\",\n        \"description\": \"\"\n      }\n    },\n    {\n      \"column\": \"BMI\",\n      \"properties\": {\n        \"dtype\": \"number\",\n        \"std\": 1.0033057941406955,\n        \"min\": -2.1962549565658516,\n        \"max\": 2.3147505728270787,\n        \"num_unique_values\": 75,\n        \"samples\": [\n          1.873456553647336\n        ],\n        \"semantic_type\": \"\",\n        \"description\": \"\"\n      }\n    },\n    {\n      \"column\": \"DiabetesPedigreeFunction\",\n      \"properties\": {\n        \"dtype\": \"number\",\n        \"std\": 1.0033057941406955,\n        \"min\": -1.348217986097584,\n        \"max\": 2.3904030149882685,\n        \"num_unique_values\": 77,\n        \"samples\": [\n          2.3904030149882685\n        ],\n        \"semantic_type\": \"\",\n        \"description\": \"\"\n      }\n    },\n    {\n      \"column\": \"Age\",\n      \"properties\": {\n        \"dtype\": \"number\",\n        \"std\": 1.003305794140695,\n        \"min\": -1.2328615581639795,\n        \"max\": 2.7448615823273506,\n        \"num_unique_values\": 36,\n        \"samples\": [\n          -0.8792861678980833\n        ],\n        \"semantic_type\": \"\",\n        \"description\": \"\"\n      }\n    }\n  ]\n}",
              "type": "dataframe",
              "variable_name": "X_scaled"
            },
            "text/html": [
              "\n",
              "  <div id=\"df-3b3b3401-b8dc-44e3-bcdb-fb94c8870895\" class=\"colab-df-container\">\n",
              "    <div>\n",
              "<style scoped>\n",
              "    .dataframe tbody tr th:only-of-type {\n",
              "        vertical-align: middle;\n",
              "    }\n",
              "\n",
              "    .dataframe tbody tr th {\n",
              "        vertical-align: top;\n",
              "    }\n",
              "\n",
              "    .dataframe thead th {\n",
              "        text-align: right;\n",
              "    }\n",
              "</style>\n",
              "<table border=\"1\" class=\"dataframe\">\n",
              "  <thead>\n",
              "    <tr style=\"text-align: right;\">\n",
              "      <th></th>\n",
              "      <th>Pregnancies</th>\n",
              "      <th>Glucose</th>\n",
              "      <th>BloodPressure</th>\n",
              "      <th>SkinThickness</th>\n",
              "      <th>Insulin</th>\n",
              "      <th>BMI</th>\n",
              "      <th>DiabetesPedigreeFunction</th>\n",
              "      <th>Age</th>\n",
              "    </tr>\n",
              "  </thead>\n",
              "  <tbody>\n",
              "    <tr>\n",
              "      <th>0</th>\n",
              "      <td>0.443393</td>\n",
              "      <td>1.151090</td>\n",
              "      <td>-0.199571</td>\n",
              "      <td>0.768831</td>\n",
              "      <td>0.0</td>\n",
              "      <td>0.320755</td>\n",
              "      <td>0.966323</td>\n",
              "      <td>1.330560</td>\n",
              "    </tr>\n",
              "    <tr>\n",
              "      <th>1</th>\n",
              "      <td>-0.937667</td>\n",
              "      <td>-1.350405</td>\n",
              "      <td>-0.688840</td>\n",
              "      <td>0.042226</td>\n",
              "      <td>0.0</td>\n",
              "      <td>-0.823340</td>\n",
              "      <td>-0.245846</td>\n",
              "      <td>-0.348923</td>\n",
              "    </tr>\n",
              "    <tr>\n",
              "      <th>2</th>\n",
              "      <td>0.995817</td>\n",
              "      <td>2.163600</td>\n",
              "      <td>-0.851930</td>\n",
              "      <td>0.042226</td>\n",
              "      <td>0.0</td>\n",
              "      <td>-1.362700</td>\n",
              "      <td>1.163960</td>\n",
              "      <td>-0.260529</td>\n",
              "    </tr>\n",
              "    <tr>\n",
              "      <th>3</th>\n",
              "      <td>-0.937667</td>\n",
              "      <td>-1.191580</td>\n",
              "      <td>-0.688840</td>\n",
              "      <td>-0.684379</td>\n",
              "      <td>0.0</td>\n",
              "      <td>-0.578177</td>\n",
              "      <td>-1.053959</td>\n",
              "      <td>-1.232862</td>\n",
              "    </tr>\n",
              "    <tr>\n",
              "      <th>4</th>\n",
              "      <td>-1.213880</td>\n",
              "      <td>0.714321</td>\n",
              "      <td>-2.809010</td>\n",
              "      <td>0.768831</td>\n",
              "      <td>0.0</td>\n",
              "      <td>1.873457</td>\n",
              "      <td>2.390403</td>\n",
              "      <td>-0.172135</td>\n",
              "    </tr>\n",
              "  </tbody>\n",
              "</table>\n",
              "</div>\n",
              "    <div class=\"colab-df-buttons\">\n",
              "\n",
              "  <div class=\"colab-df-container\">\n",
              "    <button class=\"colab-df-convert\" onclick=\"convertToInteractive('df-3b3b3401-b8dc-44e3-bcdb-fb94c8870895')\"\n",
              "            title=\"Convert this dataframe to an interactive table.\"\n",
              "            style=\"display:none;\">\n",
              "\n",
              "  <svg xmlns=\"http://www.w3.org/2000/svg\" height=\"24px\" viewBox=\"0 -960 960 960\">\n",
              "    <path d=\"M120-120v-720h720v720H120Zm60-500h600v-160H180v160Zm220 220h160v-160H400v160Zm0 220h160v-160H400v160ZM180-400h160v-160H180v160Zm440 0h160v-160H620v160ZM180-180h160v-160H180v160Zm440 0h160v-160H620v160Z\"/>\n",
              "  </svg>\n",
              "    </button>\n",
              "\n",
              "  <style>\n",
              "    .colab-df-container {\n",
              "      display:flex;\n",
              "      gap: 12px;\n",
              "    }\n",
              "\n",
              "    .colab-df-convert {\n",
              "      background-color: #E8F0FE;\n",
              "      border: none;\n",
              "      border-radius: 50%;\n",
              "      cursor: pointer;\n",
              "      display: none;\n",
              "      fill: #1967D2;\n",
              "      height: 32px;\n",
              "      padding: 0 0 0 0;\n",
              "      width: 32px;\n",
              "    }\n",
              "\n",
              "    .colab-df-convert:hover {\n",
              "      background-color: #E2EBFA;\n",
              "      box-shadow: 0px 1px 2px rgba(60, 64, 67, 0.3), 0px 1px 3px 1px rgba(60, 64, 67, 0.15);\n",
              "      fill: #174EA6;\n",
              "    }\n",
              "\n",
              "    .colab-df-buttons div {\n",
              "      margin-bottom: 4px;\n",
              "    }\n",
              "\n",
              "    [theme=dark] .colab-df-convert {\n",
              "      background-color: #3B4455;\n",
              "      fill: #D2E3FC;\n",
              "    }\n",
              "\n",
              "    [theme=dark] .colab-df-convert:hover {\n",
              "      background-color: #434B5C;\n",
              "      box-shadow: 0px 1px 3px 1px rgba(0, 0, 0, 0.15);\n",
              "      filter: drop-shadow(0px 1px 2px rgba(0, 0, 0, 0.3));\n",
              "      fill: #FFFFFF;\n",
              "    }\n",
              "  </style>\n",
              "\n",
              "    <script>\n",
              "      const buttonEl =\n",
              "        document.querySelector('#df-3b3b3401-b8dc-44e3-bcdb-fb94c8870895 button.colab-df-convert');\n",
              "      buttonEl.style.display =\n",
              "        google.colab.kernel.accessAllowed ? 'block' : 'none';\n",
              "\n",
              "      async function convertToInteractive(key) {\n",
              "        const element = document.querySelector('#df-3b3b3401-b8dc-44e3-bcdb-fb94c8870895');\n",
              "        const dataTable =\n",
              "          await google.colab.kernel.invokeFunction('convertToInteractive',\n",
              "                                                    [key], {});\n",
              "        if (!dataTable) return;\n",
              "\n",
              "        const docLinkHtml = 'Like what you see? Visit the ' +\n",
              "          '<a target=\"_blank\" href=https://colab.research.google.com/notebooks/data_table.ipynb>data table notebook</a>'\n",
              "          + ' to learn more about interactive tables.';\n",
              "        element.innerHTML = '';\n",
              "        dataTable['output_type'] = 'display_data';\n",
              "        await google.colab.output.renderOutput(dataTable, element);\n",
              "        const docLink = document.createElement('div');\n",
              "        docLink.innerHTML = docLinkHtml;\n",
              "        element.appendChild(docLink);\n",
              "      }\n",
              "    </script>\n",
              "  </div>\n",
              "\n",
              "\n",
              "    <div id=\"df-859e190b-3de0-4dc1-98de-72485b21a6b2\">\n",
              "      <button class=\"colab-df-quickchart\" onclick=\"quickchart('df-859e190b-3de0-4dc1-98de-72485b21a6b2')\"\n",
              "                title=\"Suggest charts\"\n",
              "                style=\"display:none;\">\n",
              "\n",
              "<svg xmlns=\"http://www.w3.org/2000/svg\" height=\"24px\"viewBox=\"0 0 24 24\"\n",
              "     width=\"24px\">\n",
              "    <g>\n",
              "        <path d=\"M19 3H5c-1.1 0-2 .9-2 2v14c0 1.1.9 2 2 2h14c1.1 0 2-.9 2-2V5c0-1.1-.9-2-2-2zM9 17H7v-7h2v7zm4 0h-2V7h2v10zm4 0h-2v-4h2v4z\"/>\n",
              "    </g>\n",
              "</svg>\n",
              "      </button>\n",
              "\n",
              "<style>\n",
              "  .colab-df-quickchart {\n",
              "      --bg-color: #E8F0FE;\n",
              "      --fill-color: #1967D2;\n",
              "      --hover-bg-color: #E2EBFA;\n",
              "      --hover-fill-color: #174EA6;\n",
              "      --disabled-fill-color: #AAA;\n",
              "      --disabled-bg-color: #DDD;\n",
              "  }\n",
              "\n",
              "  [theme=dark] .colab-df-quickchart {\n",
              "      --bg-color: #3B4455;\n",
              "      --fill-color: #D2E3FC;\n",
              "      --hover-bg-color: #434B5C;\n",
              "      --hover-fill-color: #FFFFFF;\n",
              "      --disabled-bg-color: #3B4455;\n",
              "      --disabled-fill-color: #666;\n",
              "  }\n",
              "\n",
              "  .colab-df-quickchart {\n",
              "    background-color: var(--bg-color);\n",
              "    border: none;\n",
              "    border-radius: 50%;\n",
              "    cursor: pointer;\n",
              "    display: none;\n",
              "    fill: var(--fill-color);\n",
              "    height: 32px;\n",
              "    padding: 0;\n",
              "    width: 32px;\n",
              "  }\n",
              "\n",
              "  .colab-df-quickchart:hover {\n",
              "    background-color: var(--hover-bg-color);\n",
              "    box-shadow: 0 1px 2px rgba(60, 64, 67, 0.3), 0 1px 3px 1px rgba(60, 64, 67, 0.15);\n",
              "    fill: var(--button-hover-fill-color);\n",
              "  }\n",
              "\n",
              "  .colab-df-quickchart-complete:disabled,\n",
              "  .colab-df-quickchart-complete:disabled:hover {\n",
              "    background-color: var(--disabled-bg-color);\n",
              "    fill: var(--disabled-fill-color);\n",
              "    box-shadow: none;\n",
              "  }\n",
              "\n",
              "  .colab-df-spinner {\n",
              "    border: 2px solid var(--fill-color);\n",
              "    border-color: transparent;\n",
              "    border-bottom-color: var(--fill-color);\n",
              "    animation:\n",
              "      spin 1s steps(1) infinite;\n",
              "  }\n",
              "\n",
              "  @keyframes spin {\n",
              "    0% {\n",
              "      border-color: transparent;\n",
              "      border-bottom-color: var(--fill-color);\n",
              "      border-left-color: var(--fill-color);\n",
              "    }\n",
              "    20% {\n",
              "      border-color: transparent;\n",
              "      border-left-color: var(--fill-color);\n",
              "      border-top-color: var(--fill-color);\n",
              "    }\n",
              "    30% {\n",
              "      border-color: transparent;\n",
              "      border-left-color: var(--fill-color);\n",
              "      border-top-color: var(--fill-color);\n",
              "      border-right-color: var(--fill-color);\n",
              "    }\n",
              "    40% {\n",
              "      border-color: transparent;\n",
              "      border-right-color: var(--fill-color);\n",
              "      border-top-color: var(--fill-color);\n",
              "    }\n",
              "    60% {\n",
              "      border-color: transparent;\n",
              "      border-right-color: var(--fill-color);\n",
              "    }\n",
              "    80% {\n",
              "      border-color: transparent;\n",
              "      border-right-color: var(--fill-color);\n",
              "      border-bottom-color: var(--fill-color);\n",
              "    }\n",
              "    90% {\n",
              "      border-color: transparent;\n",
              "      border-bottom-color: var(--fill-color);\n",
              "    }\n",
              "  }\n",
              "</style>\n",
              "\n",
              "      <script>\n",
              "        async function quickchart(key) {\n",
              "          const quickchartButtonEl =\n",
              "            document.querySelector('#' + key + ' button');\n",
              "          quickchartButtonEl.disabled = true;  // To prevent multiple clicks.\n",
              "          quickchartButtonEl.classList.add('colab-df-spinner');\n",
              "          try {\n",
              "            const charts = await google.colab.kernel.invokeFunction(\n",
              "                'suggestCharts', [key], {});\n",
              "          } catch (error) {\n",
              "            console.error('Error during call to suggestCharts:', error);\n",
              "          }\n",
              "          quickchartButtonEl.classList.remove('colab-df-spinner');\n",
              "          quickchartButtonEl.classList.add('colab-df-quickchart-complete');\n",
              "        }\n",
              "        (() => {\n",
              "          let quickchartButtonEl =\n",
              "            document.querySelector('#df-859e190b-3de0-4dc1-98de-72485b21a6b2 button');\n",
              "          quickchartButtonEl.style.display =\n",
              "            google.colab.kernel.accessAllowed ? 'block' : 'none';\n",
              "        })();\n",
              "      </script>\n",
              "    </div>\n",
              "\n",
              "    </div>\n",
              "  </div>\n"
            ],
            "text/plain": [
              "   Pregnancies   Glucose  BloodPressure  SkinThickness  Insulin       BMI  \\\n",
              "0     0.443393  1.151090      -0.199571       0.768831      0.0  0.320755   \n",
              "1    -0.937667 -1.350405      -0.688840       0.042226      0.0 -0.823340   \n",
              "2     0.995817  2.163600      -0.851930       0.042226      0.0 -1.362700   \n",
              "3    -0.937667 -1.191580      -0.688840      -0.684379      0.0 -0.578177   \n",
              "4    -1.213880  0.714321      -2.809010       0.768831      0.0  1.873457   \n",
              "\n",
              "   DiabetesPedigreeFunction       Age  \n",
              "0                  0.966323  1.330560  \n",
              "1                 -0.245846 -0.348923  \n",
              "2                  1.163960 -0.260529  \n",
              "3                 -1.053959 -1.232862  \n",
              "4                  2.390403 -0.172135  "
            ]
          },
          "execution_count": 19,
          "metadata": {},
          "output_type": "execute_result"
        }
      ],
      "source": [
        "# Mostrar las primeras filas de los datos escalados\n",
        "print(\"Primeras 5 filas de los datos escalados:\")\n",
        "X_scaled.head()"
      ]
    },
    {
      "cell_type": "markdown",
      "metadata": {
        "id": "LUCrAo6iVRxF"
      },
      "source": [
        "#### 3.4. Matriz de Correlación\n",
        "\n",
        "La matriz de correlación nos ayuda a entender la relación lineal entre las diferentes características. Valores cercanos a 1 o -1 indican una fuerte correlación positiva o negativa, respectivamente. Valores cercanos a 0 indican poca o ninguna correlación. Es útil para identificar posibles multicolinealidades o para entender qué características podrían ser más predictivas.\n",
        "\n",
        "**Interpretación:**\n",
        "\n",
        "*   **Correlación Positiva (cercana a 1):** Cuando una variable aumenta, la otra también tiende a aumentar.\n",
        "*   **Correlación Negativa (cercana a -1):** Cuando una variable aumenta, la otra tiende a disminuir.\n",
        "*   **Correlación Nula (cercana a 0):** No hay una relación lineal clara entre las variables.\n",
        "\n",
        "En nuestro caso, también es importante observar la correlación de cada característica con la variable `Outcome` (diabetes)."
      ]
    },
    {
      "cell_type": "markdown",
      "metadata": {
        "id": "WYD2NFt-VRxF"
      },
      "source": [
        "**¿Qué hace este código?**\n",
        "\n",
        "Calcula la matriz de correlación entre todas las variables y la visualiza como un mapa de calor. Esto nos ayuda a entender las relaciones entre las variables.\n",
        "\n",
        "**Resultado esperado:** Un mapa de calor que muestra las correlaciones entre variables, donde los colores más intensos indican correlaciones más fuertes."
      ]
    },
    {
      "cell_type": "code",
      "execution_count": null,
      "metadata": {
        "colab": {
          "base_uri": "https://localhost:8080/",
          "height": 1000
        },
        "id": "R4MYbJlpVRxG",
        "outputId": "f9249a17-7677-45ef-e040-48a1a5261f45"
      },
      "outputs": [
        {
          "data": {
            "image/png": "[encoded data removed]",
            "text/plain": [
              "<Figure size 1200x1000 with 2 Axes>"
            ]
          },
          "metadata": {},
          "output_type": "display_data"
        },
        {
          "name": "stdout",
          "output_type": "stream",
          "text": [
            "\n",
            "Correlaciones con la variable objetivo (Outcome):\n",
            "Glucose: 0.418\n",
            "BMI: 0.417\n",
            "Age: 0.399\n",
            "SkinThickness: 0.397\n",
            "DiabetesPedigreeFunction: 0.234\n",
            "Pregnancies: 0.094\n",
            "BloodPressure: 0.056\n",
            "Insulin: nan\n"
          ]
        }
      ],
      "source": [
        "# Calcular la matriz de correlación\n",
        "corr_matrix = df.corr()\n",
        "\n",
        "# Visualizar la matriz de correlación con un mapa de calor\n",
        "plt.figure(figsize=(12, 10))\n",
        "sns.heatmap(corr_matrix, annot=True, cmap=\"coolwarm\", fmt=\".2f\",\n",
        "            square=True, linewidths=0.5)\n",
        "plt.title(\"Matriz de Correlación de las Características\", fontsize=16)\n",
        "plt.tight_layout()\n",
        "plt.show()\n",
        "\n",
        "# Mostrar las correlaciones con la variable objetivo\n",
        "print(\"\\nCorrelaciones con la variable objetivo (Outcome):\")\n",
        "correlaciones_outcome = corr_matrix[\"Outcome\"].drop(\"Outcome\").sort_values(key=abs, ascending=False)\n",
        "for variable, correlacion in correlaciones_outcome.items():\n",
        "    print(f\"{variable}: {correlacion:.3f}\")"
      ]
    },
    {
      "cell_type": "markdown",
      "metadata": {
        "id": "HYqufXVgVRxG"
      },
      "source": [
        "### Fase 4: Modelado\n",
        "\n",
        "En esta fase, dividiremos nuestros datos en conjuntos de entrenamiento y prueba, y luego entrenaremos nuestro modelo de Regresión Logística."
      ]
    },
    {
      "cell_type": "markdown",
      "metadata": {
        "id": "x4eITU52VRxG"
      },
      "source": [
        "#### 4.1. División de Datos (Entrenamiento y Prueba)\n",
        "\n",
        "Es crucial dividir el dataset en dos partes: un conjunto de entrenamiento (para que el modelo aprenda) y un conjunto de prueba (para evaluar qué tan bien generaliza el modelo a datos no vistos). Usaremos una división 70/30."
      ]
    },
    {
      "cell_type": "markdown",
      "metadata": {
        "id": "Qmuct_c_VRxH"
      },
      "source": [
        "**¿Qué hace este código?**\n",
        "\n",
        "Divide el dataset en conjuntos de entrenamiento (70%) y prueba (30%). El parámetro `stratify=y` asegura que la proporción de clases sea la misma en ambos conjuntos.\n",
        "\n",
        "**Resultado esperado:** Cuatro conjuntos de datos: características de entrenamiento, características de prueba, etiquetas de entrenamiento y etiquetas de prueba."
      ]
    },
    {
      "cell_type": "code",
      "execution_count": null,
      "metadata": {
        "colab": {
          "base_uri": "https://localhost:8080/"
        },
        "id": "MbI6q-YrVRxH",
        "outputId": "d7a213d5-e054-4974-d5e9-49789f79e5c8"
      },
      "outputs": [
        {
          "name": "stdout",
          "output_type": "stream",
          "text": [
            "Tamaño del conjunto de entrenamiento: 106 registros (69.7%)\n",
            "Tamaño del conjunto de prueba: 46 registros (30.3%)\n",
            "\n",
            "Distribución de clases en entrenamiento:\n",
            "Outcome\n",
            "0    67\n",
            "1    39\n",
            "Name: count, dtype: int64\n",
            "\n",
            "Distribución de clases en prueba:\n",
            "Outcome\n",
            "0    29\n",
            "1    17\n",
            "Name: count, dtype: int64\n"
          ]
        }
      ],
      "source": [
        "from sklearn.model_selection import train_test_split\n",
        "\n",
        "# Dividir los datos en conjuntos de entrenamiento y prueba (70/30)\n",
        "X_train, X_test, y_train, y_test = train_test_split(\n",
        "    X_scaled, y,\n",
        "    test_size=0.3,\n",
        "    random_state=42,\n",
        "    stratify=y\n",
        ")\n",
        "\n",
        "print(f\"Tamaño del conjunto de entrenamiento: {X_train.shape[0]} registros ({X_train.shape[0]/len(df)*100:.1f}%)\")\n",
        "print(f\"Tamaño del conjunto de prueba: {X_test.shape[0]} registros ({X_test.shape[0]/len(df)*100:.1f}%)\")\n",
        "\n",
        "print(f\"\\nDistribución de clases en entrenamiento:\")\n",
        "print(y_train.value_counts())\n",
        "print(f\"\\nDistribución de clases en prueba:\")\n",
        "print(y_test.value_counts())"
      ]
    },
    {
      "cell_type": "markdown",
      "metadata": {
        "id": "8gDbxu1eVRxI"
      },
      "source": [
        "**Nota sobre `stratify=y`:** Esto asegura que la proporción de clases (diabéticos/no diabéticos) sea la misma en los conjuntos de entrenamiento y prueba que en el dataset original. Esto es importante en datasets desbalanceados."
      ]
    },
    {
      "cell_type": "markdown",
      "metadata": {
        "id": "Knn5cNwAVRxI"
      },
      "source": [
        "#### 4.2. Entrenamiento del Modelo de Regresión Logística\n",
        "\n",
        "Ahora instanciamos y entrenamos nuestro modelo de Regresión Logística con los datos de entrenamiento."
      ]
    },
    {
      "cell_type": "markdown",
      "metadata": {
        "id": "SBi26G9lVRxI"
      },
      "source": [
        "**¿Qué hace este código?**\n",
        "\n",
        "Crea una instancia del modelo de Regresión Logística y lo entrena con los datos de entrenamiento. El modelo aprenderá los patrones en los datos para hacer predicciones.\n",
        "\n",
        "**Resultado esperado:** Un modelo entrenado que puede hacer predicciones sobre nuevos datos."
      ]
    },
    {
      "cell_type": "code",
      "execution_count": null,
      "metadata": {
        "colab": {
          "base_uri": "https://localhost:8080/"
        },
        "id": "iRrmIqBZVRxJ",
        "outputId": "0df7bcd7-55d7-4400-9f77-63ca356af592"
      },
      "outputs": [
        {
          "name": "stdout",
          "output_type": "stream",
          "text": [
            "Modelo de Regresión Logística entrenado exitosamente.\n",
            "Número de iteraciones para convergencia: 10\n",
            "\n",
            "Coeficientes del modelo (importancia de cada característica):\n",
            "SkinThickness: 1.2999\n",
            "Age: 0.7766\n",
            "Glucose: 0.7402\n",
            "BMI: 0.3088\n",
            "Pregnancies: -0.3017\n",
            "BloodPressure: -0.1324\n",
            "DiabetesPedigreeFunction: -0.0454\n",
            "Insulin: 0.0000\n"
          ]
        }
      ],
      "source": [
        "from sklearn.linear_model import LogisticRegression\n",
        "\n",
        "# Instanciar el modelo de Regresión Logística\n",
        "model = LogisticRegression(random_state=42, max_iter=1000)\n",
        "\n",
        "# Entrenar el modelo con los datos de entrenamiento\n",
        "model.fit(X_train, y_train)\n",
        "\n",
        "print(\"Modelo de Regresión Logística entrenado exitosamente.\")\n",
        "print(f\"Número de iteraciones para convergencia: {model.n_iter_[0]}\")\n",
        "\n",
        "# Mostrar los coeficientes del modelo\n",
        "print(\"\\nCoeficientes del modelo (importancia de cada característica):\")\n",
        "coeficientes = pd.DataFrame({\n",
        "    'Característica': X.columns,\n",
        "    'Coeficiente': model.coef_[0]\n",
        "}).sort_values('Coeficiente', key=abs, ascending=False)\n",
        "\n",
        "for _, row in coeficientes.iterrows():\n",
        "    print(f\"{row['Característica']}: {row['Coeficiente']:.4f}\")"
      ]
    },
    {
      "cell_type": "markdown",
      "metadata": {
        "id": "oLGLUUWfVRxJ"
      },
      "source": [
        "### Fase 5: Evaluación\n",
        "\n",
        "En esta fase, evaluaremos el rendimiento de nuestro modelo utilizando métricas adecuadas para problemas de clasificación y entenderemos su significado."
      ]
    },
    {
      "cell_type": "markdown",
      "metadata": {
        "id": "Pct7cZeaVRxK"
      },
      "source": [
        "#### 5.1. Predicciones en el Conjunto de Prueba\n",
        "\n",
        "Una vez entrenado el modelo, lo usamos para hacer predicciones sobre el conjunto de datos de prueba, que el modelo no ha visto durante el entrenamiento."
      ]
    },
    {
      "cell_type": "markdown",
      "metadata": {
        "id": "HAmivJddVRxL"
      },
      "source": [
        "**¿Qué hace este código?**\n",
        "\n",
        "Usa el modelo entrenado para hacer predicciones sobre el conjunto de prueba. Obtiene tanto las predicciones binarias (0 o 1) como las probabilidades.\n",
        "\n",
        "**Resultado esperado:** Predicciones para cada muestra del conjunto de prueba y sus probabilidades asociadas."
      ]
    },
    {
      "cell_type": "code",
      "execution_count": null,
      "metadata": {
        "colab": {
          "base_uri": "https://localhost:8080/"
        },
        "id": "gQ9zA9cdVRxM",
        "outputId": "e545f0da-d340-46e8-9057-ee32ce42b1b9"
      },
      "outputs": [
        {
          "name": "stdout",
          "output_type": "stream",
          "text": [
            "Predicciones realizadas en el conjunto de prueba.\n",
            "Número de predicciones: 46\n",
            "Predicciones positivas (diabetes): 14\n",
            "Predicciones negativas (no diabetes): 32\n",
            "\n",
            "Ejemplos de predicciones:\n",
            "Muestra 1: Real=0, Predicción=0, Probabilidad=0.040\n",
            "Muestra 2: Real=1, Predicción=1, Probabilidad=0.522\n",
            "Muestra 3: Real=0, Predicción=0, Probabilidad=0.337\n",
            "Muestra 4: Real=0, Predicción=1, Probabilidad=0.512\n",
            "Muestra 5: Real=0, Predicción=0, Probabilidad=0.040\n"
          ]
        }
      ],
      "source": [
        "# Hacer predicciones en el conjunto de prueba\n",
        "y_pred = model.predict(X_test)\n",
        "y_pred_proba = model.predict_proba(X_test)[:, 1]  # Probabilidades de la clase positiva (diabetes)\n",
        "\n",
        "print(\"Predicciones realizadas en el conjunto de prueba.\")\n",
        "print(f\"Número de predicciones: {len(y_pred)}\")\n",
        "print(f\"Predicciones positivas (diabetes): {sum(y_pred)}\")\n",
        "print(f\"Predicciones negativas (no diabetes): {len(y_pred) - sum(y_pred)}\")\n",
        "\n",
        "# Mostrar algunas predicciones de ejemplo\n",
        "print(\"\\nEjemplos de predicciones:\")\n",
        "for i in range(5):\n",
        "    real = y_test.iloc[i]\n",
        "    pred = y_pred[i]\n",
        "    prob = y_pred_proba[i]\n",
        "    print(f\"Muestra {i+1}: Real={real}, Predicción={pred}, Probabilidad={prob:.3f}\")"
      ]
    },
    {
      "cell_type": "markdown",
      "metadata": {
        "id": "ORlVfVWxVRxN"
      },
      "source": [
        "#### 5.2. Matriz de Confusión\n",
        "\n",
        "La **Matriz de Confusión** es una tabla que se utiliza para describir el rendimiento de un modelo de clasificación en un conjunto de datos para el que se conocen los valores verdaderos. Permite visualizar el rendimiento del algoritmo.\n",
        "\n",
        "**Componentes de la Matriz de Confusión:**\n",
        "\n",
        "*   **Verdaderos Positivos (VP):** Casos en los que el modelo predijo correctamente la clase positiva (ej. predijo diabetes y el paciente realmente tiene diabetes).\n",
        "*   **Verdaderos Negativos (VN):** Casos en los que el modelo predijo correctamente la clase negativa (ej. predijo no diabetes y el paciente realmente no tiene diabetes).\n",
        "*   **Falsos Positivos (FP):** Casos en los que el modelo predijo la clase positiva incorrectamente (ej. predijo diabetes, pero el paciente no la tiene). También conocido como error de Tipo I.\n",
        "*   **Falsos Negativos (FN):** Casos en los que el modelo predijo la clase negativa incorrectamente (ej. predijo no diabetes, pero el paciente sí la tiene). También conocido como error de Tipo II.\n",
        "\n",
        "**Interpretación:** Una buena matriz de confusión tendrá valores altos en la diagonal principal (VP y VN) y valores bajos fuera de ella (FP y FN)."
      ]
    },
    {
      "cell_type": "markdown",
      "metadata": {
        "id": "cgPIWt5IVRxO"
      },
      "source": [
        "**¿Qué hace este código?**\n",
        "\n",
        "Calcula y visualiza la matriz de confusión, que muestra cuántas predicciones fueron correctas e incorrectas para cada clase.\n",
        "\n",
        "**Resultado esperado:** Una matriz visual que muestra el rendimiento del modelo en términos de verdaderos positivos, verdaderos negativos, falsos positivos y falsos negativos."
      ]
    },
    {
      "cell_type": "code",
      "execution_count": null,
      "metadata": {
        "colab": {
          "base_uri": "https://localhost:8080/",
          "height": 697
        },
        "id": "4Szrmi5fVRxO",
        "outputId": "483946e4-6856-4930-989d-5cb5bfff8477"
      },
      "outputs": [
        {
          "name": "stdout",
          "output_type": "stream",
          "text": [
            "Matriz de Confusión:\n",
            "Verdaderos Negativos (VN): 24\n",
            "Falsos Positivos (FP): 5\n",
            "Falsos Negativos (FN): 8\n",
            "Verdaderos Positivos (VP): 9\n"
          ]
        },
        {
          "data": {
            "image/png": "[encoded data removed]",
            "text/plain": [
              "<Figure size 800x600 with 1 Axes>"
            ]
          },
          "metadata": {},
          "output_type": "display_data"
        }
      ],
      "source": [
        "from sklearn.metrics import confusion_matrix\n",
        "\n",
        "# Calcular la matriz de confusión\n",
        "cm = confusion_matrix(y_test, y_pred)\n",
        "\n",
        "# Extraer los valores de la matriz de confusión\n",
        "tn, fp, fn, tp = cm.ravel()\n",
        "\n",
        "print(\"Matriz de Confusión:\")\n",
        "print(f\"Verdaderos Negativos (VN): {tn}\")\n",
        "print(f\"Falsos Positivos (FP): {fp}\")\n",
        "print(f\"Falsos Negativos (FN): {fn}\")\n",
        "print(f\"Verdaderos Positivos (VP): {tp}\")\n",
        "\n",
        "# Visualizar la matriz de confusión\n",
        "plt.figure(figsize=(8, 6))\n",
        "sns.heatmap(cm, annot=True, fmt=\"d\", cmap=\"Blues\", cbar=False,\n",
        "            xticklabels=[\"No Diabetes\", \"Diabetes\"],\n",
        "            yticklabels=[\"No Diabetes\", \"Diabetes\"])\n",
        "plt.xlabel(\"Predicción\", fontsize=12)\n",
        "plt.ylabel(\"Valor Real\", fontsize=12)\n",
        "plt.title(\"Matriz de Confusión\", fontsize=14)\n",
        "\n",
        "# Añadir texto explicativo\n",
        "plt.text(0.5, -0.1, f\"VN: {tn}, FP: {fp}, FN: {fn}, VP: {tp}\",\n",
        "         ha='center', transform=plt.gca().transAxes)\n",
        "plt.tight_layout()\n",
        "plt.show()"
      ]
    },
    {
      "cell_type": "markdown",
      "metadata": {
        "id": "P7lJ6qf1VRxP"
      },
      "source": [
        "#### 5.3. Métricas de Clasificación\n",
        "\n",
        "A partir de la matriz de confusión, podemos calcular varias métricas clave que nos dan una visión más completa del rendimiento del modelo.\n",
        "\n",
        "## Explicación Detallada de las Métricas\n",
        "\n",
        "### 1. Accuracy (Exactitud)\n",
        "**Fórmula:** `(VP + VN) / (VP + VN + FP + FN)`\n",
        "\n",
        "**Qué mide:** La proporción de predicciones correctas sobre el total de predicciones. Es una métrica general de qué tan bien clasifica el modelo.\n",
        "\n",
        "**Interpretación:** Un accuracy alto indica que el modelo acierta la mayoría de las veces. Sin embargo, puede ser engañoso en datasets desbalanceados (ej. si el 95% de los pacientes no tienen diabetes, un modelo que siempre predice 'no diabetes' tendría un 95% de accuracy, pero sería inútil).\n",
        "\n",
        "**Cuándo es importante:** Cuando las clases están balanceadas y el costo de los errores es similar para ambas clases.\n",
        "\n",
        "### 2. Precision (Precisión)\n",
        "**Fórmula:** `VP / (VP + FP)`\n",
        "\n",
        "**Qué mide:** De todas las veces que el modelo predijo la clase positiva (ej. diabetes), ¿cuántas de ellas fueron realmente correctas? Es la capacidad del modelo para no etiquetar como positivo una muestra que es negativa.\n",
        "\n",
        "**Interpretación:** Una alta precisión es importante cuando el costo de un Falso Positivo es alto (ej. un diagnóstico erróneo de diabetes que lleva a tratamientos innecesarios y estrés en el paciente).\n",
        "\n",
        "**Cuándo es importante:** Cuando queremos minimizar los falsos positivos. Por ejemplo, en spam detection, no queremos que emails importantes sean marcados como spam.\n",
        "\n",
        "### 3. Recall (Sensibilidad o Exhaustividad)\n",
        "**Fórmula:** `VP / (VP + FN)`\n",
        "\n",
        "**Qué mide:** De todas las muestras que realmente pertenecen a la clase positiva (ej. pacientes con diabetes), ¿cuántas de ellas fueron correctamente identificadas por el modelo? Es la capacidad del modelo para encontrar todas las muestras positivas.\n",
        "\n",
        "**Interpretación:** Un alto recall es importante cuando el costo de un Falso Negativo es alto (ej. no diagnosticar diabetes a un paciente que sí la tiene, lo que retrasa el tratamiento y puede llevar a complicaciones graves).\n",
        "\n",
        "**Cuándo es importante:** Cuando queremos minimizar los falsos negativos. Por ejemplo, en diagnósticos médicos, no queremos pasar por alto casos de enfermedad.\n",
        "\n",
        "### 4. F1-Score\n",
        "**Fórmula:** `2 * (Precision * Recall) / (Precision + Recall)`\n",
        "\n",
        "**Qué mide:** Es la media armónica de la precisión y el recall. Proporciona un equilibrio entre ambas métricas.\n",
        "\n",
        "**Interpretación:** El F1-Score es útil cuando se busca un equilibrio entre precisión y recall, especialmente en datasets desbalanceados. Un valor alto indica que el modelo tiene un buen rendimiento tanto en la identificación de positivos como en la evitación de falsos positivos y negativos.\n",
        "\n",
        "**Cuándo es importante:** Cuando necesitamos un balance entre precisión y recall, o cuando las clases están desbalanceadas.\n",
        "\n",
        "### Contexto Médico\n",
        "En el diagnóstico médico, a menudo se prioriza un alto **recall** para no pasar por alto casos de enfermedad, incluso si eso significa tener algunos falsos positivos. Es mejor hacer pruebas adicionales a un paciente sano que no detectar una enfermedad real."
      ]
    },
    {
      "cell_type": "markdown",
      "metadata": {
        "id": "BynQEeyHVRxQ"
      },
      "source": [
        "**¿Qué hace este código?**\n",
        "\n",
        "Calcula todas las métricas de clasificación importantes y muestra un reporte detallado del rendimiento del modelo.\n",
        "\n",
        "**Resultado esperado:** Valores numéricos para accuracy, precisión, recall y F1-score, junto con un reporte completo de clasificación."
      ]
    },
    {
      "cell_type": "code",
      "execution_count": null,
      "metadata": {
        "colab": {
          "base_uri": "https://localhost:8080/"
        },
        "id": "HMPcUblUVRxR",
        "outputId": "91cfb1a5-1277-4989-ed3c-d0608ec50185"
      },
      "outputs": [
        {
          "name": "stdout",
          "output_type": "stream",
          "text": [
            "=== MÉTRICAS DE EVALUACIÓN ===\n",
            "Accuracy (Exactitud): 0.7174 (71.74%)\n",
            "Precision (Precisión): 0.6429 (64.29%)\n",
            "Recall (Sensibilidad): 0.5294 (52.94%)\n",
            "F1-Score: 0.5806 (58.06%)\n",
            "\n",
            "=== INTERPRETACIÓN ===\n",
            "• De cada 100 predicciones, 72 son correctas (Accuracy)\n",
            "• De cada 100 predicciones de diabetes, 64 son realmente diabetes (Precision)\n",
            "• De cada 100 pacientes con diabetes, 53 son detectados (Recall)\n",
            "• El balance entre precisión y recall es 58% (F1-Score)\n",
            "\n",
            "=== REPORTE DETALLADO DE CLASIFICACIÓN ===\n",
            "              precision    recall  f1-score   support\n",
            "\n",
            " No Diabetes       0.75      0.83      0.79        29\n",
            "    Diabetes       0.64      0.53      0.58        17\n",
            "\n",
            "    accuracy                           0.72        46\n",
            "   macro avg       0.70      0.68      0.68        46\n",
            "weighted avg       0.71      0.72      0.71        46\n",
            "\n"
          ]
        }
      ],
      "source": [
        "from sklearn.metrics import accuracy_score, precision_score, recall_score, f1_score, classification_report\n",
        "\n",
        "# Calcular las métricas principales\n",
        "accuracy = accuracy_score(y_test, y_pred)\n",
        "precision = precision_score(y_test, y_pred)\n",
        "recall = recall_score(y_test, y_pred)\n",
        "f1 = f1_score(y_test, y_pred)\n",
        "\n",
        "print(\"=== MÉTRICAS DE EVALUACIÓN ===\")\n",
        "print(f\"Accuracy (Exactitud): {accuracy:.4f} ({accuracy*100:.2f}%)\")\n",
        "print(f\"Precision (Precisión): {precision:.4f} ({precision*100:.2f}%)\")\n",
        "print(f\"Recall (Sensibilidad): {recall:.4f} ({recall*100:.2f}%)\")\n",
        "print(f\"F1-Score: {f1:.4f} ({f1*100:.2f}%)\")\n",
        "\n",
        "print(\"\\n=== INTERPRETACIÓN ===\")\n",
        "print(f\"• De cada 100 predicciones, {accuracy*100:.0f} son correctas (Accuracy)\")\n",
        "print(f\"• De cada 100 predicciones de diabetes, {precision*100:.0f} son realmente diabetes (Precision)\")\n",
        "print(f\"• De cada 100 pacientes con diabetes, {recall*100:.0f} son detectados (Recall)\")\n",
        "print(f\"• El balance entre precisión y recall es {f1*100:.0f}% (F1-Score)\")\n",
        "\n",
        "# Reporte de clasificación completo\n",
        "print(\"\\n=== REPORTE DETALLADO DE CLASIFICACIÓN ===\")\n",
        "print(classification_report(y_test, y_pred, target_names=[\"No Diabetes\", \"Diabetes\"]))"
      ]
    },
    {
      "cell_type": "markdown",
      "metadata": {
        "id": "bGRs0mWRVRxR"
      },
      "source": [
        "#### 5.4. Validación Cruzada (Cross-Validation)\n",
        "\n",
        "La **Validación Cruzada** es una técnica utilizada para evaluar la capacidad de generalización de un modelo a un conjunto de datos independiente. Ayuda a evitar el sobreajuste (overfitting) y a obtener una estimación más robusta del rendimiento del modelo.\n",
        "\n",
        "**¿Por qué es necesaria?**\n",
        "\n",
        "Si solo evaluamos el modelo en un único conjunto de prueba, la métrica de rendimiento podría ser muy optimista o pesimista, dependiendo de cómo se hayan dividido los datos. La validación cruzada reduce la varianza de la estimación del rendimiento.\n",
        "\n",
        "**Cómo funciona (ej. K-Fold Cross-Validation):**\n",
        "\n",
        "1.  El dataset se divide en `k` subconjuntos (folds) de igual tamaño.\n",
        "2.  Se entrena el modelo `k` veces. En cada iteración:\n",
        "    *   Un fold se usa como conjunto de prueba.\n",
        "    *   Los `k-1` folds restantes se usan como conjunto de entrenamiento.\n",
        "3.  Se registra la métrica de rendimiento en cada iteración.\n",
        "4.  El rendimiento final del modelo se calcula como el promedio de las `k` métricas registradas.\n",
        "\n",
        "Esto nos da una estimación más fiable de cómo se comportará el modelo con datos nuevos."
      ]
    },
    {
      "cell_type": "markdown",
      "metadata": {
        "id": "17d4xhGBVRxS"
      },
      "source": [
        "**¿Qué hace este código?**\n",
        "\n",
        "Realiza validación cruzada con 5 folds para obtener una estimación más robusta del rendimiento del modelo. Esto nos da una idea de qué tan consistente es el modelo.\n",
        "\n",
        "**Resultado esperado:** Múltiples scores de accuracy y su promedio, mostrando la estabilidad del modelo."
      ]
    },
    {
      "cell_type": "code",
      "execution_count": null,
      "metadata": {
        "colab": {
          "base_uri": "https://localhost:8080/"
        },
        "id": "4_wnwmf9VRxT",
        "outputId": "0f65ea70-5d11-40c9-94f0-46974d580f70"
      },
      "outputs": [
        {
          "name": "stdout",
          "output_type": "stream",
          "text": [
            "=== VALIDACIÓN CRUZADA (5-Fold) ===\n",
            "Scores individuales: ['0.7419', '0.6774', '0.8000', '0.7000', '0.9000']\n",
            "Accuracy promedio: 0.7639 ± 0.0798\n",
            "Rango de confianza (95%): [0.6042, 0.9235]\n",
            "\n",
            "=== COMPARACIÓN ===\n",
            "Accuracy en conjunto de prueba: 0.7174\n",
            "Accuracy promedio en validación cruzada: 0.7639\n",
            "Diferencia: 0.0465 (Buena consistencia)\n"
          ]
        }
      ],
      "source": [
        "from sklearn.model_selection import cross_val_score\n",
        "\n",
        "# Realizar validación cruzada con 5 folds\n",
        "cv_scores = cross_val_score(LogisticRegression(random_state=42, max_iter=1000),\n",
        "                           X_scaled, y, cv=5, scoring=\"accuracy\")\n",
        "\n",
        "print(\"=== VALIDACIÓN CRUZADA (5-Fold) ===\")\n",
        "print(f\"Scores individuales: {[f'{score:.4f}' for score in cv_scores]}\")\n",
        "print(f\"Accuracy promedio: {cv_scores.mean():.4f} ± {cv_scores.std():.4f}\")\n",
        "print(f\"Rango de confianza (95%): [{cv_scores.mean() - 2*cv_scores.std():.4f}, {cv_scores.mean() + 2*cv_scores.std():.4f}]\")\n",
        "\n",
        "# Comparar con el resultado del conjunto de prueba\n",
        "print(f\"\\n=== COMPARACIÓN ===\")\n",
        "print(f\"Accuracy en conjunto de prueba: {accuracy:.4f}\")\n",
        "print(f\"Accuracy promedio en validación cruzada: {cv_scores.mean():.4f}\")\n",
        "diferencia = abs(accuracy - cv_scores.mean())\n",
        "print(f\"Diferencia: {diferencia:.4f} ({'Buena consistencia' if diferencia < 0.05 else 'Revisar posible sobreajuste'})\")"
      ]
    },
    {
      "cell_type": "markdown",
      "metadata": {
        "id": "PNRbhZb9VRxT"
      },
      "source": [
        "### Fase 6: Despliegue (Predicción de un Nuevo Paciente)\n",
        "\n",
        "En esta fase final, simularemos el uso de nuestro modelo entrenado para hacer una predicción sobre un paciente completamente nuevo. Es importante recordar que los datos del nuevo paciente deben ser preprocesados de la misma manera que los datos de entrenamiento (imputación de nulos, manejo de outliers y escalado)."
      ]
    },
    {
      "cell_type": "markdown",
      "metadata": {
        "id": "wSRFBZBCVRxU"
      },
      "source": [
        "**¿Qué hace este código?**\n",
        "\n",
        "Define los datos de un nuevo paciente que queremos evaluar. Estos datos deben estar en el mismo formato que los datos de entrenamiento.\n",
        "\n",
        "**Resultado esperado:** Un DataFrame con los datos del nuevo paciente listos para ser procesados."
      ]
    },
    {
      "cell_type": "code",
      "execution_count": null,
      "metadata": {
        "colab": {
          "base_uri": "https://localhost:8080/"
        },
        "id": "UKrEAMqWVRxU",
        "outputId": "f0663976-0975-4e76-e33f-fa4dc7f72a03"
      },
      "outputs": [
        {
          "name": "stdout",
          "output_type": "stream",
          "text": [
            "=== DATOS DEL NUEVO PACIENTE ===\n",
            "                              0\n",
            "Pregnancies                 2.0\n",
            "Glucose                   140.0\n",
            "BloodPressure              70.0\n",
            "SkinThickness              30.0\n",
            "Insulin                   150.0\n",
            "BMI                        35.0\n",
            "DiabetesPedigreeFunction    0.6\n",
            "Age                        38.0\n",
            "\n",
            "=== PERFIL DEL PACIENTE ===\n",
            "Mujer de 38 años\n",
            "Ha estado embarazada 2 veces\n",
            "Glucosa: 140 mg/dL\n",
            "Presión arterial: 70 mmHg\n",
            "BMI: 35.0\n",
            "Insulina: 150 mu U/ml\n"
          ]
        }
      ],
      "source": [
        "# Datos de un nuevo paciente (ejemplo)\n",
        "# Asegúrate de que las columnas estén en el mismo orden que el dataset de entrenamiento\n",
        "new_patient_data = pd.DataFrame({\n",
        "    \"Pregnancies\": [2],\n",
        "    \"Glucose\": [140],\n",
        "    \"BloodPressure\": [70],\n",
        "    \"SkinThickness\": [30],\n",
        "    \"Insulin\": [150],\n",
        "    \"BMI\": [35.0],\n",
        "    \"DiabetesPedigreeFunction\": [0.6],\n",
        "    \"Age\": [38]\n",
        "})\n",
        "\n",
        "print(\"=== DATOS DEL NUEVO PACIENTE ===\")\n",
        "print(new_patient_data.T)  # Transponer para mejor visualización\n",
        "\n",
        "# Mostrar información del paciente\n",
        "print(\"\\n=== PERFIL DEL PACIENTE ===\")\n",
        "print(f\"Mujer de {new_patient_data['Age'].iloc[0]} años\")\n",
        "print(f\"Ha estado embarazada {new_patient_data['Pregnancies'].iloc[0]} veces\")\n",
        "print(f\"Glucosa: {new_patient_data['Glucose'].iloc[0]} mg/dL\")\n",
        "print(f\"Presión arterial: {new_patient_data['BloodPressure'].iloc[0]} mmHg\")\n",
        "print(f\"BMI: {new_patient_data['BMI'].iloc[0]}\")\n",
        "print(f\"Insulina: {new_patient_data['Insulin'].iloc[0]} mu U/ml\")"
      ]
    },
    {
      "cell_type": "markdown",
      "metadata": {
        "id": "ICN_i9QFVRxV"
      },
      "source": [
        "#### Preprocesamiento del Nuevo Paciente\n",
        "\n",
        "Aplicamos las mismas transformaciones que a los datos de entrenamiento:\n",
        "1.  Manejo de ceros (si aplica, aunque en este ejemplo no hay)\n",
        "2.  Manejo de outliers (capping) usando los límites aprendidos del dataset de entrenamiento.\n",
        "3.  Escalado usando el `StandardScaler` que se entrenó con los datos de entrenamiento."
      ]
    },
    {
      "cell_type": "markdown",
      "metadata": {
        "id": "isfNMV8ZVRxV"
      },
      "source": [
        "**¿Qué hace este código?**\n",
        "\n",
        "Aplica el mismo preprocesamiento que se usó en los datos de entrenamiento: manejo de outliers y escalado. Es crucial usar los mismos parámetros que se aprendieron durante el entrenamiento.\n",
        "\n",
        "**Resultado esperado:** Los datos del nuevo paciente procesados y listos para la predicción."
      ]
    },
    {
      "cell_type": "code",
      "execution_count": null,
      "metadata": {
        "colab": {
          "base_uri": "https://localhost:8080/"
        },
        "id": "qOTBOOMVVRxW",
        "outputId": "ec54cffd-958e-49bc-a030-a3070d209c55"
      },
      "outputs": [
        {
          "name": "stdout",
          "output_type": "stream",
          "text": [
            "=== PREPROCESAMIENTO DEL NUEVO PACIENTE ===\n",
            "Valores cero encontrados: 0\n",
            "\n",
            "Aplicando límites de outliers:\n",
            "Pregnancies: 2.00 (sin cambios)\n",
            "Glucose: 140.00 (sin cambios)\n",
            "BloodPressure: 70.00 (sin cambios)\n",
            "SkinThickness: 30.00 (sin cambios)\n",
            "Insulin: 150.00 → 140.00 (limitado)\n",
            "BMI: 35.00 (sin cambios)\n",
            "DiabetesPedigreeFunction: 0.60 (sin cambios)\n",
            "Age: 38.00 (sin cambios)\n",
            "\n",
            "Datos escalados (primeros 4 valores): [-0.6614553   0.83343984 -0.36266053  0.16332681]\n",
            "Preprocesamiento completado.\n"
          ]
        }
      ],
      "source": [
        "# Crear una copia para el preprocesamiento\n",
        "new_patient_processed = new_patient_data.copy()\n",
        "\n",
        "print(\"=== PREPROCESAMIENTO DEL NUEVO PACIENTE ===\")\n",
        "\n",
        "# 1. Manejo de ceros (si los hubiera)\n",
        "# En este ejemplo no hay ceros, pero es buena práctica verificar\n",
        "ceros_encontrados = (new_patient_processed == 0).sum().sum()\n",
        "print(f\"Valores cero encontrados: {ceros_encontrados}\")\n",
        "\n",
        "# 2. Aplicar capping de outliers usando los límites del dataset original\n",
        "print(\"\\nAplicando límites de outliers:\")\n",
        "for col in new_patient_processed.columns:\n",
        "    # Usar los mismos límites que se calcularon para el dataset de entrenamiento\n",
        "    Q1 = df[col].quantile(0.25)\n",
        "    Q3 = df[col].quantile(0.75)\n",
        "    IQR = Q3 - Q1\n",
        "    lower_bound = Q1 - 1.5 * IQR\n",
        "    upper_bound = Q3 + 1.5 * IQR\n",
        "\n",
        "    valor_original = new_patient_processed[col].iloc[0]\n",
        "    new_patient_processed[col] = np.clip(new_patient_processed[col], lower_bound, upper_bound)\n",
        "    valor_procesado = new_patient_processed[col].iloc[0]\n",
        "\n",
        "    if valor_original != valor_procesado:\n",
        "        print(f\"{col}: {valor_original:.2f} → {valor_procesado:.2f} (limitado)\")\n",
        "    else:\n",
        "        print(f\"{col}: {valor_original:.2f} (sin cambios)\")\n",
        "\n",
        "# 3. Escalar usando el scaler entrenado\n",
        "new_patient_scaled = scaler.transform(new_patient_processed)\n",
        "\n",
        "print(f\"\\nDatos escalados (primeros 4 valores): {new_patient_scaled[0][:4]}\")\n",
        "print(\"Preprocesamiento completado.\")"
      ]
    },
    {
      "cell_type": "markdown",
      "metadata": {
        "id": "6J17qdi4VRxX"
      },
      "source": [
        "#### Predicción Final\n",
        "\n",
        "Finalmente, usamos el modelo entrenado para predecir si el nuevo paciente tiene diabetes."
      ]
    },
    {
      "cell_type": "markdown",
      "metadata": {
        "id": "eJaEg2KlVRxY"
      },
      "source": [
        "**¿Qué hace este código?**\n",
        "\n",
        "Usa el modelo entrenado para hacer una predicción sobre el nuevo paciente. Proporciona tanto la predicción binaria como la probabilidad asociada.\n",
        "\n",
        "**Resultado esperado:** Una predicción clara sobre si el paciente tiene diabetes o no, junto con la probabilidad de cada clase."
      ]
    },
    {
      "cell_type": "code",
      "execution_count": null,
      "metadata": {
        "colab": {
          "base_uri": "https://localhost:8080/"
        },
        "id": "iMTXgrZLVRxZ",
        "outputId": "b67906e2-fe0b-4566-f2a4-cf28f88921bf"
      },
      "outputs": [
        {
          "name": "stdout",
          "output_type": "stream",
          "text": [
            "=== RESULTADO DE LA PREDICCIÓN ===\n",
            "Predicción: DIABETES\n",
            "\n",
            "Probabilidades:\n",
            "• No Diabetes: 0.420 (42.0%)\n",
            "• Diabetes: 0.580 (58.0%)\n",
            "\n",
            "=== INTERPRETACIÓN CLÍNICA ===\n",
            "⚠️  El modelo predice que el paciente TIENE DIABETES\n",
            "   Confianza: 58.0%\n",
            "   Recomendación: Monitoreo y evaluación adicional\n",
            "\n",
            "⚠️  IMPORTANTE: Esta predicción es solo una herramienta de apoyo.\n",
            "   Siempre consulte con un profesional médico para un diagnóstico definitivo.\n"
          ]
        },
        {
          "name": "stderr",
          "output_type": "stream",
          "text": [
            "/usr/local/lib/python3.12/dist-packages/sklearn/utils/validation.py:2739: UserWarning: X does not have valid feature names, but LogisticRegression was fitted with feature names\n",
            "  warnings.warn(\n",
            "/usr/local/lib/python3.12/dist-packages/sklearn/utils/validation.py:2739: UserWarning: X does not have valid feature names, but LogisticRegression was fitted with feature names\n",
            "  warnings.warn(\n"
          ]
        }
      ],
      "source": [
        "# Hacer la predicción\n",
        "prediction = model.predict(new_patient_scaled)\n",
        "prediction_proba = model.predict_proba(new_patient_scaled)\n",
        "\n",
        "# Extraer probabilidades\n",
        "prob_no_diabetes = prediction_proba[0][0]\n",
        "prob_diabetes = prediction_proba[0][1]\n",
        "\n",
        "print(\"=== RESULTADO DE LA PREDICCIÓN ===\")\n",
        "print(f\"Predicción: {'DIABETES' if prediction[0] == 1 else 'NO DIABETES'}\")\n",
        "print(f\"\\nProbabilidades:\")\n",
        "print(f\"• No Diabetes: {prob_no_diabetes:.3f} ({prob_no_diabetes*100:.1f}%)\")\n",
        "print(f\"• Diabetes: {prob_diabetes:.3f} ({prob_diabetes*100:.1f}%)\")\n",
        "\n",
        "print(f\"\\n=== INTERPRETACIÓN CLÍNICA ===\")\n",
        "if prediction[0] == 1:\n",
        "    print(f\"⚠️  El modelo predice que el paciente TIENE DIABETES\")\n",
        "    print(f\"   Confianza: {prob_diabetes*100:.1f}%\")\n",
        "    if prob_diabetes > 0.8:\n",
        "        print(f\"   Recomendación: Realizar pruebas confirmatorias inmediatamente\")\n",
        "    elif prob_diabetes > 0.6:\n",
        "        print(f\"   Recomendación: Realizar pruebas adicionales y seguimiento\")\n",
        "    else:\n",
        "        print(f\"   Recomendación: Monitoreo y evaluación adicional\")\n",
        "else:\n",
        "    print(f\"✅ El modelo predice que el paciente NO TIENE DIABETES\")\n",
        "    print(f\"   Confianza: {prob_no_diabetes*100:.1f}%\")\n",
        "    if prob_diabetes > 0.3:\n",
        "        print(f\"   Nota: Probabilidad de diabetes no despreciable ({prob_diabetes*100:.1f}%). Considerar seguimiento.\")\n",
        "    else:\n",
        "        print(f\"   Recomendación: Mantener hábitos saludables y chequeos regulares\")\n",
        "\n",
        "print(f\"\\n⚠️  IMPORTANTE: Esta predicción es solo una herramienta de apoyo.\")\n",
        "print(f\"   Siempre consulte con un profesional médico para un diagnóstico definitivo.\")"
      ]
    }
  ],
  "metadata": {
    "colab": {
      "provenance": []
    },
    "kernelspec": {
      "display_name": "Python 3",
      "language": "python",
      "name": "python3"
    },
    "language_info": {
      "codemirror_mode": {
        "name": "ipython",
        "version": 3
      },
      "file_extension": ".py",
      "mimetype": "text/x-python",
      "name": "python",
      "nbconvert_exporter": "python",
      "pygments_lexer": "ipython3",
      "version": "3.9.7"
    }
  },
  "nbformat": 4,
  "nbformat_minor": 0
}