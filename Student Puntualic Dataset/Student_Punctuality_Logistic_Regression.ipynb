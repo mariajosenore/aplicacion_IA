{
 "cells": [
  {
   "cell_type": "markdown",
   "id": "c4d00148",
   "metadata": {},
   "source": [
    "\n",
    "# Predicción de impuntualidad estudiantil con Regresión Logística\n",
    "> **Objetivo:** predecir si un estudiante **llegará tarde** a su primera clase del día a partir de hábitos de sueño, traslado y costumbres.  \n",
    "> **Modelo base:** Regresión Logística (clasificación binaria).  \n",
    "> **Dataset:** `student_punctuality.csv` (sintético, 1,200 filas).\n",
    "\n",
    "---\n"
   ]
  },
  {
   "cell_type": "code",
   "execution_count": null,
   "id": "2af03954",
   "metadata": {},
   "outputs": [],
   "source": [
    "\n",
    "# !pip install scikit-learn matplotlib pandas\n",
    "\n",
    "import pandas as pd\n",
    "import numpy as np\n",
    "import matplotlib.pyplot as plt\n",
    "\n",
    "from sklearn.model_selection import train_test_split, StratifiedKFold, cross_val_score\n",
    "from sklearn.compose import ColumnTransformer\n",
    "from sklearn.preprocessing import OneHotEncoder, StandardScaler\n",
    "from sklearn.pipeline import Pipeline\n",
    "from sklearn.linear_model import LogisticRegression\n",
    "from sklearn.metrics import (accuracy_score, precision_score, recall_score, f1_score,\n",
    "                             confusion_matrix, classification_report, roc_auc_score,\n",
    "                             RocCurveDisplay)\n"
   ]
  },
  {
   "cell_type": "markdown",
   "id": "02baa69e",
   "metadata": {},
   "source": [
    "## 1. Cargar el dataset"
   ]
  },
  {
   "cell_type": "code",
   "execution_count": null,
   "id": "0bae1355",
   "metadata": {},
   "outputs": [],
   "source": [
    "\n",
    "DATA_PATH = 'student_punctuality.csv'  \n",
    "\n",
    "df = pd.read_csv(DATA_PATH)\n",
    "df.head()\n"
   ]
  },
  {
   "cell_type": "code",
   "execution_count": null,
   "id": "583589fe",
   "metadata": {},
   "outputs": [],
   "source": [
    "\n",
    "df.info()\n"
   ]
  },
  {
   "cell_type": "code",
   "execution_count": null,
   "id": "7e79996f",
   "metadata": {},
   "outputs": [],
   "source": [
    "\n",
    "df.describe(include='all')\n"
   ]
  },
  {
   "cell_type": "markdown",
   "id": "8e8fcfa3",
   "metadata": {},
   "source": [
    "## 2. Exploración rápida"
   ]
  },
  {
   "cell_type": "code",
   "execution_count": null,
   "id": "011007cc",
   "metadata": {},
   "outputs": [],
   "source": [
    "\n",
    "# Balance de clases\n",
    "class_counts = df['late'].value_counts().sort_index()\n",
    "plt.figure()\n",
    "class_counts.plot(kind='bar')\n",
    "plt.title('Balance de clases (0 = puntual, 1 = tarde)')\n",
    "plt.xlabel('late')\n",
    "plt.ylabel('frecuencia')\n",
    "plt.show()\n",
    "\n",
    "print('Proporción de tarde:', df['late'].mean().round(3))\n"
   ]
  },
  {
   "cell_type": "code",
   "execution_count": null,
   "id": "23c46a61",
   "metadata": {},
   "outputs": [],
   "source": [
    "\n",
    "# Correlaciones de numéricas (inspección rápida)\n",
    "num_cols = df.select_dtypes(include='number').columns.tolist()\n",
    "corr = df[num_cols].corr()\n",
    "plt.figure()\n",
    "plt.imshow(corr, interpolation='nearest')\n",
    "plt.xticks(range(len(num_cols)), num_cols, rotation=90)\n",
    "plt.yticks(range(len(num_cols)), num_cols)\n",
    "plt.title('Matriz de correlación (numéricas)')\n",
    "plt.colorbar()\n",
    "plt.tight_layout()\n",
    "plt.show()\n"
   ]
  },
  {
   "cell_type": "markdown",
   "id": "ef0df0e3",
   "metadata": {},
   "source": [
    "## 3. Preparación de datos y pipeline"
   ]
  },
  {
   "cell_type": "code",
   "execution_count": null,
   "id": "7c3ad192",
   "metadata": {},
   "outputs": [],
   "source": [
    "\n",
    "X = df.drop(columns=['late'])\n",
    "y = df['late']\n",
    "\n",
    "numeric_features = X.select_dtypes(include='number').columns.tolist()\n",
    "categorical_features = X.select_dtypes(exclude='number').columns.tolist()\n",
    "\n",
    "preprocess = ColumnTransformer(\n",
    "    transformers=[\n",
    "        ('num', StandardScaler(), numeric_features),\n",
    "        ('cat', OneHotEncoder(drop='first', handle_unknown='ignore'), categorical_features),\n",
    "    ]\n",
    ")\n",
    "\n",
    "logreg = LogisticRegression(max_iter=200, class_weight=None, n_jobs=None)\n",
    "\n",
    "pipe = Pipeline(steps=[('prep', preprocess),\n",
    "                      ('model', logreg)])\n",
    "\n",
    "X_train, X_test, y_train, y_test = train_test_split(\n",
    "    X, y, test_size=0.2, random_state=42, stratify=y\n",
    ")\n"
   ]
  },
  {
   "cell_type": "markdown",
   "id": "69ec3b28",
   "metadata": {},
   "source": [
    "## 4. Entrenamiento"
   ]
  },
  {
   "cell_type": "code",
   "execution_count": null,
   "id": "1d82fe67",
   "metadata": {},
   "outputs": [],
   "source": [
    "\n",
    "pipe.fit(X_train, y_train)\n",
    "\n",
    "y_pred = pipe.predict(X_test)\n",
    "y_proba = pipe.predict_proba(X_test)[:, 1]\n",
    "\n",
    "print('Accuracy :', accuracy_score(y_test, y_pred).round(3))\n",
    "print('Precision:', precision_score(y_test, y_pred).round(3))\n",
    "print('Recall   :', recall_score(y_test, y_pred).round(3))\n",
    "print('F1       :', f1_score(y_test, y_pred).round(3))\n",
    "print('ROC AUC  :', roc_auc_score(y_test, y_proba).round(3))\n",
    "\n",
    "print('\\nClassification report:\\n', classification_report(y_test, y_pred))\n",
    "\n",
    "cm = confusion_matrix(y_test, y_pred)\n",
    "plt.figure()\n",
    "plt.imshow(cm, cmap=None)\n",
    "plt.title('Matriz de confusión')\n",
    "plt.xticks([0,1], ['Pred 0','Pred 1'])\n",
    "plt.yticks([0,1], ['True 0','True 1'])\n",
    "for i in range(2):\n",
    "    for j in range(2):\n",
    "        plt.text(j, i, cm[i, j], ha='center', va='center')\n",
    "plt.xlabel('Predicción')\n",
    "plt.ylabel('Real')\n",
    "plt.tight_layout()\n",
    "plt.show()\n",
    "\n",
    "RocCurveDisplay.from_estimator(pipe, X_test, y_test)\n",
    "plt.title('Curva ROC')\n",
    "plt.show()\n"
   ]
  },
  {
   "cell_type": "markdown",
   "id": "02c5ff8a",
   "metadata": {},
   "source": [
    "## 5. Validación cruzada"
   ]
  },
  {
   "cell_type": "code",
   "execution_count": null,
   "id": "bcc0808c",
   "metadata": {},
   "outputs": [],
   "source": [
    "\n",
    "cv = StratifiedKFold(n_splits=5, shuffle=True, random_state=42)\n",
    "scores = cross_val_score(pipe, X, y, cv=cv, scoring='f1')\n",
    "print('F1 en CV (5 folds):', scores.round(3))\n",
    "print('Media F1:', scores.mean().round(3))\n"
   ]
  },
  {
   "cell_type": "markdown",
   "id": "fadb3a37",
   "metadata": {},
   "source": [
    "## 6. Interpretación de coeficientes (odds ratio)"
   ]
  },
  {
   "cell_type": "code",
   "execution_count": null,
   "id": "42781f3c",
   "metadata": {},
   "outputs": [],
   "source": [
    "\n",
    "# Recuperar nombres de features después del preprocesamiento\n",
    "ohe = pipe.named_steps['prep'].named_transformers_['cat']\n",
    "cat_names = []\n",
    "if len(ohe.categories_) > 0:\n",
    "    for cats, name in zip(ohe.categories_, X[categorical_features].columns):\n",
    "        # drop='first' => se omite la primera categoría\n",
    "        cat_names.extend([f'{name}={c}' for c in cats[1:]])\n",
    "\n",
    "feat_names = numeric_features + cat_names\n",
    "\n",
    "coefs = pipe.named_steps['model'].coef_[0]\n",
    "odds = np.exp(coefs)\n",
    "coef_df = pd.DataFrame({'feature': feat_names, 'coef': coefs, 'odds_ratio': odds}).sort_values('odds_ratio', ascending=False)\n",
    "coef_df.head(12)\n"
   ]
  },
  {
   "cell_type": "code",
   "execution_count": null,
   "id": "1699dea6",
   "metadata": {},
   "outputs": [],
   "source": [
    "\n",
    "# Visualización simple de los top-12 (por |coef|)\n",
    "top = coef_df.reindex(coef_df['coef'].abs().sort_values(ascending=False).index)[:12]\n",
    "plt.figure()\n",
    "plt.barh(top['feature'], top['coef'])\n",
    "plt.gca().invert_yaxis()\n",
    "plt.title('Top 12 coeficientes (signo indica efecto)')\n",
    "plt.tight_layout()\n",
    "plt.show()\n"
   ]
  },
  {
   "cell_type": "markdown",
   "id": "564c1dcb",
   "metadata": {},
   "source": [
    "## 7. Ajuste del umbral de decisión"
   ]
  },
  {
   "cell_type": "code",
   "execution_count": null,
   "id": "8610dfdf",
   "metadata": {},
   "outputs": [],
   "source": [
    "\n",
    "thresholds = np.linspace(0.1, 0.9, 17)\n",
    "metrics = []\n",
    "for t in thresholds:\n",
    "    pred_t = (y_proba >= t).astype(int)\n",
    "    metrics.append((t,\n",
    "                    precision_score(y_test, pred_t, zero_division=0),\n",
    "                    recall_score(y_test, pred_t, zero_division=0),\n",
    "                    f1_score(y_test, pred_t, zero_division=0)))\n",
    "m = np.array(metrics)\n",
    "best_idx = m[:,3].argmax()\n",
    "print('Mejor F1 con umbral:', m[best_idx,0].round(2), '→ F1 =', m[best_idx,3].round(3))\n",
    "plt.figure()\n",
    "plt.plot(m[:,0], m[:,1], label='Precision')\n",
    "plt.plot(m[:,0], m[:,2], label='Recall')\n",
    "plt.plot(m[:,0], m[:,3], label='F1')\n",
    "plt.xlabel('Umbral')\n",
    "plt.ylabel('Métrica')\n",
    "plt.legend()\n",
    "plt.title('Trade-off con el umbral de decisión')\n",
    "plt.show()\n"
   ]
  },
  {
   "cell_type": "markdown",
   "id": "724dc34f",
   "metadata": {},
   "source": [
    "## 8. Guardar el modelo"
   ]
  },
  {
   "cell_type": "code",
   "execution_count": null,
   "id": "bad6b093",
   "metadata": {},
   "outputs": [],
   "source": [
    "\n",
    "import joblib\n",
    "joblib.dump(pipe, 'logreg_student_punctuality.joblib')\n",
    "print('Modelo guardado como logreg_student_punctuality.joblib')\n"
   ]
  },
  {
   "cell_type": "markdown",
   "id": "8565072a",
   "metadata": {},
   "source": [
    "\n",
    "## 9. Conclusiones y siguientes pasos\n",
    "- La **Regresión Logística** funciona bien como línea base y permite interpretar efectos mediante coeficientes (odds ratio).\n",
    "- Si necesitas capturar relaciones no lineales, intenta **árboles**, **Random Forest**, **Gradient Boosting** o **XGBoost**, y compara con validación cruzada.\n",
    "- Considera aspectos de **balance de clases** (por ejemplo, `class_weight='balanced'` o *resampling*) si tu dataset real está muy desbalanceado.\n",
    "- Repite el análisis con datos reales (encuestas a estudiantes) para validar el comportamiento del modelo.\n",
    "\n",
    "> **Cita del dataset:** Este dataset es sintético y se genera con fines educativos.\n"
   ]
  }
 ],
 "metadata": {
  "language_info": {
   "name": "python"
  }
 },
 "nbformat": 4,
 "nbformat_minor": 5
}
